{
 "cells": [
  {
   "cell_type": "markdown",
   "id": "da569b4b",
   "metadata": {},
   "source": [
    "### Problem #1\n",
    "\n",
    "\n",
    "\n",
    "\n"
   ]
  },
  {
   "cell_type": "code",
   "execution_count": 44,
   "id": "e868318e",
   "metadata": {},
   "outputs": [],
   "source": [
    "# A study has shown that males in the UK have steadily grown in height from the 1800s to 1980. Based on the data below, find the mean height for each sixty-year period. Then, choose an appropriate chart or plot to visualize this data.\n",
    "\n",
    "# Year\tHeight in Cm\n",
    "# 1810\t169.7\n",
    "# 1820\t169.1\n",
    "# 1830\t166.7\n",
    "# 1840\t166.5\n",
    "# 1850\t165.6\n",
    "# 1860\t166.6\n",
    "# 1870\t167.2\n",
    "# 1880\t168\n",
    "# 1890\t167.4\n",
    "# 1900\t169.4\n",
    "# 1910\t170.9\n",
    "# 1920\t171\n",
    "# 1930\t173.9\n",
    "# 1940\t174.9\n",
    "# 1950\t176\n",
    "# 1960\t176.9\n",
    "# 1970\t177.1\n",
    "# 1980\t176.8\n",
    "\n",
    "\n",
    "\n"
   ]
  },
  {
   "cell_type": "markdown",
   "id": "7c0219a3",
   "metadata": {},
   "source": [
    "#### Solving statistics problem is consist of 3 parts\n"
   ]
  },
  {
   "cell_type": "markdown",
   "id": "604c3027",
   "metadata": {},
   "source": [
    "#1 inserting data into PandasDataFrame\n",
    "\n",
    "#2 solving problem\n",
    "\n",
    "#3 visualizing "
   ]
  },
  {
   "cell_type": "code",
   "execution_count": 45,
   "id": "822a3a95",
   "metadata": {},
   "outputs": [],
   "source": [
    "import pandas as pd\n",
    "import os"
   ]
  },
  {
   "cell_type": "code",
   "execution_count": 46,
   "id": "cdc850ec",
   "metadata": {},
   "outputs": [
    {
     "data": {
      "text/html": [
       "<div>\n",
       "<style scoped>\n",
       "    .dataframe tbody tr th:only-of-type {\n",
       "        vertical-align: middle;\n",
       "    }\n",
       "\n",
       "    .dataframe tbody tr th {\n",
       "        vertical-align: top;\n",
       "    }\n",
       "\n",
       "    .dataframe thead th {\n",
       "        text-align: right;\n",
       "    }\n",
       "</style>\n",
       "<table border=\"1\" class=\"dataframe\">\n",
       "  <thead>\n",
       "    <tr style=\"text-align: right;\">\n",
       "      <th></th>\n",
       "      <th>Year</th>\n",
       "      <th>Height in Cm</th>\n",
       "    </tr>\n",
       "  </thead>\n",
       "  <tbody>\n",
       "    <tr>\n",
       "      <th>0</th>\n",
       "      <td>1810</td>\n",
       "      <td>169.7</td>\n",
       "    </tr>\n",
       "    <tr>\n",
       "      <th>1</th>\n",
       "      <td>1820</td>\n",
       "      <td>169.1</td>\n",
       "    </tr>\n",
       "    <tr>\n",
       "      <th>2</th>\n",
       "      <td>1830</td>\n",
       "      <td>166.7</td>\n",
       "    </tr>\n",
       "    <tr>\n",
       "      <th>3</th>\n",
       "      <td>1840</td>\n",
       "      <td>166.5</td>\n",
       "    </tr>\n",
       "    <tr>\n",
       "      <th>4</th>\n",
       "      <td>1850</td>\n",
       "      <td>165.6</td>\n",
       "    </tr>\n",
       "    <tr>\n",
       "      <th>5</th>\n",
       "      <td>1860</td>\n",
       "      <td>166.6</td>\n",
       "    </tr>\n",
       "    <tr>\n",
       "      <th>6</th>\n",
       "      <td>1870</td>\n",
       "      <td>167.2</td>\n",
       "    </tr>\n",
       "    <tr>\n",
       "      <th>7</th>\n",
       "      <td>1880</td>\n",
       "      <td>168.0</td>\n",
       "    </tr>\n",
       "    <tr>\n",
       "      <th>8</th>\n",
       "      <td>1890</td>\n",
       "      <td>167.4</td>\n",
       "    </tr>\n",
       "    <tr>\n",
       "      <th>9</th>\n",
       "      <td>1900</td>\n",
       "      <td>169.4</td>\n",
       "    </tr>\n",
       "    <tr>\n",
       "      <th>10</th>\n",
       "      <td>1910</td>\n",
       "      <td>170.9</td>\n",
       "    </tr>\n",
       "    <tr>\n",
       "      <th>11</th>\n",
       "      <td>1920</td>\n",
       "      <td>171.0</td>\n",
       "    </tr>\n",
       "    <tr>\n",
       "      <th>12</th>\n",
       "      <td>1930</td>\n",
       "      <td>173.9</td>\n",
       "    </tr>\n",
       "    <tr>\n",
       "      <th>13</th>\n",
       "      <td>1940</td>\n",
       "      <td>174.9</td>\n",
       "    </tr>\n",
       "    <tr>\n",
       "      <th>14</th>\n",
       "      <td>1950</td>\n",
       "      <td>176.0</td>\n",
       "    </tr>\n",
       "    <tr>\n",
       "      <th>15</th>\n",
       "      <td>1960</td>\n",
       "      <td>176.9</td>\n",
       "    </tr>\n",
       "    <tr>\n",
       "      <th>16</th>\n",
       "      <td>1970</td>\n",
       "      <td>177.1</td>\n",
       "    </tr>\n",
       "    <tr>\n",
       "      <th>17</th>\n",
       "      <td>1980</td>\n",
       "      <td>176.8</td>\n",
       "    </tr>\n",
       "  </tbody>\n",
       "</table>\n",
       "</div>"
      ],
      "text/plain": [
       "    Year  Height in Cm\n",
       "0   1810         169.7\n",
       "1   1820         169.1\n",
       "2   1830         166.7\n",
       "3   1840         166.5\n",
       "4   1850         165.6\n",
       "5   1860         166.6\n",
       "6   1870         167.2\n",
       "7   1880         168.0\n",
       "8   1890         167.4\n",
       "9   1900         169.4\n",
       "10  1910         170.9\n",
       "11  1920         171.0\n",
       "12  1930         173.9\n",
       "13  1940         174.9\n",
       "14  1950         176.0\n",
       "15  1960         176.9\n",
       "16  1970         177.1\n",
       "17  1980         176.8"
      ]
     },
     "execution_count": 46,
     "metadata": {},
     "output_type": "execute_result"
    }
   ],
   "source": [
    "Problem1 = pd.DataFrame(\n",
    "    {\n",
    "        \"Year\":[1810,1820,1830,1840,1850,1860,1870,1880,1890,1900,1910,1920,1930,1940,1950,1960,1970,1980],\n",
    "        \"Height in Cm\":[169.7,169.1,166.7,166.5,165.6,166.6,167.2,168,167.4,169.4,170.9,171,173.9,174.9,176,176.9,177.1,176.8,]\n",
    "    }\n",
    "    \n",
    ")\n",
    "\n",
    "Problem1"
   ]
  },
  {
   "cell_type": "markdown",
   "id": "16284705",
   "metadata": {},
   "source": [
    "### Solving the problem"
   ]
  },
  {
   "cell_type": "markdown",
   "id": "d25ca96a",
   "metadata": {},
   "source": [
    "#### Task 1 Find mean for 60 years "
   ]
  },
  {
   "cell_type": "markdown",
   "id": "d8eb40bb",
   "metadata": {},
   "source": [
    "Separate data to 3 parts"
   ]
  },
  {
   "cell_type": "markdown",
   "id": "dedc2ee4",
   "metadata": {},
   "source": []
  },
  {
   "cell_type": "code",
   "execution_count": 47,
   "id": "c18fb56f",
   "metadata": {},
   "outputs": [
    {
     "data": {
      "text/html": [
       "<div>\n",
       "<style scoped>\n",
       "    .dataframe tbody tr th:only-of-type {\n",
       "        vertical-align: middle;\n",
       "    }\n",
       "\n",
       "    .dataframe tbody tr th {\n",
       "        vertical-align: top;\n",
       "    }\n",
       "\n",
       "    .dataframe thead th {\n",
       "        text-align: right;\n",
       "    }\n",
       "</style>\n",
       "<table border=\"1\" class=\"dataframe\">\n",
       "  <thead>\n",
       "    <tr style=\"text-align: right;\">\n",
       "      <th></th>\n",
       "      <th>Year</th>\n",
       "      <th>Height in Cm</th>\n",
       "    </tr>\n",
       "  </thead>\n",
       "  <tbody>\n",
       "    <tr>\n",
       "      <th>11</th>\n",
       "      <td>1920</td>\n",
       "      <td>171.0</td>\n",
       "    </tr>\n",
       "    <tr>\n",
       "      <th>12</th>\n",
       "      <td>1930</td>\n",
       "      <td>173.9</td>\n",
       "    </tr>\n",
       "    <tr>\n",
       "      <th>13</th>\n",
       "      <td>1940</td>\n",
       "      <td>174.9</td>\n",
       "    </tr>\n",
       "    <tr>\n",
       "      <th>14</th>\n",
       "      <td>1950</td>\n",
       "      <td>176.0</td>\n",
       "    </tr>\n",
       "    <tr>\n",
       "      <th>15</th>\n",
       "      <td>1960</td>\n",
       "      <td>176.9</td>\n",
       "    </tr>\n",
       "    <tr>\n",
       "      <th>16</th>\n",
       "      <td>1970</td>\n",
       "      <td>177.1</td>\n",
       "    </tr>\n",
       "    <tr>\n",
       "      <th>17</th>\n",
       "      <td>1980</td>\n",
       "      <td>176.8</td>\n",
       "    </tr>\n",
       "  </tbody>\n",
       "</table>\n",
       "</div>"
      ],
      "text/plain": [
       "    Year  Height in Cm\n",
       "11  1920         171.0\n",
       "12  1930         173.9\n",
       "13  1940         174.9\n",
       "14  1950         176.0\n",
       "15  1960         176.9\n",
       "16  1970         177.1\n",
       "17  1980         176.8"
      ]
     },
     "execution_count": 47,
     "metadata": {},
     "output_type": "execute_result"
    }
   ],
   "source": [
    "# Here we separate data into 3 parts using their index\n",
    "first_60 = Problem1.iloc[:6]\n",
    "first_60\n",
    "\n",
    "second_60 = Problem1.iloc[6: 12:]\n",
    "second_60\n",
    "\n",
    "third_60 = Problem1.iloc[11:]\n",
    "third_60"
   ]
  },
  {
   "cell_type": "markdown",
   "id": "37b50193",
   "metadata": {},
   "source": [
    "New data frame for mean"
   ]
  },
  {
   "cell_type": "code",
   "execution_count": 62,
   "id": "8a3ca3f8",
   "metadata": {},
   "outputs": [
    {
     "data": {
      "text/html": [
       "<div>\n",
       "<style scoped>\n",
       "    .dataframe tbody tr th:only-of-type {\n",
       "        vertical-align: middle;\n",
       "    }\n",
       "\n",
       "    .dataframe tbody tr th {\n",
       "        vertical-align: top;\n",
       "    }\n",
       "\n",
       "    .dataframe thead th {\n",
       "        text-align: right;\n",
       "    }\n",
       "</style>\n",
       "<table border=\"1\" class=\"dataframe\">\n",
       "  <thead>\n",
       "    <tr style=\"text-align: right;\">\n",
       "      <th></th>\n",
       "      <th>Year</th>\n",
       "      <th>Height in Cm</th>\n",
       "    </tr>\n",
       "  </thead>\n",
       "  <tbody>\n",
       "    <tr>\n",
       "      <th>0</th>\n",
       "      <td>1810-1860</td>\n",
       "      <td>167.366667</td>\n",
       "    </tr>\n",
       "    <tr>\n",
       "      <th>1</th>\n",
       "      <td>1870-1920</td>\n",
       "      <td>168.983333</td>\n",
       "    </tr>\n",
       "    <tr>\n",
       "      <th>2</th>\n",
       "      <td>1930-1980</td>\n",
       "      <td>175.228571</td>\n",
       "    </tr>\n",
       "  </tbody>\n",
       "</table>\n",
       "</div>"
      ],
      "text/plain": [
       "        Year  Height in Cm\n",
       "0  1810-1860    167.366667\n",
       "1  1870-1920    168.983333\n",
       "2  1930-1980    175.228571"
      ]
     },
     "execution_count": 62,
     "metadata": {},
     "output_type": "execute_result"
    }
   ],
   "source": [
    "# Here we find mean of every 60 years of Height of men\n",
    "solution1 = pd.DataFrame(\n",
    "    {\n",
    "        \"Year\":[\"1810-1860\",\"1870-1920\",\"1930-1980\"],\n",
    "        \"Height in Cm\":[first_60['Height in Cm'].mean(),second_60['Height in Cm'].mean(),third_60['Height in Cm'].mean()]\n",
    "        \n",
    "    }\n",
    ")\n",
    "\n",
    "solution1"
   ]
  },
  {
   "cell_type": "markdown",
   "id": "0e8b5e8e",
   "metadata": {},
   "source": [
    "## visualization "
   ]
  },
  {
   "cell_type": "code",
   "execution_count": 103,
   "id": "aec8d8e9",
   "metadata": {},
   "outputs": [
    {
     "data": {
      "text/plain": [
       "(166.0, 178.0)"
      ]
     },
     "execution_count": 103,
     "metadata": {},
     "output_type": "execute_result"
    },
    {
     "data": {
      "image/png": "[encoded data removed]",
      "text/plain": [
       "<Figure size 432x288 with 1 Axes>"
      ]
     },
     "metadata": {
      "needs_background": "light"
     },
     "output_type": "display_data"
    }
   ],
   "source": [
    "# here is the most interesting part very important as well\n",
    "# here we plot the data\n",
    "import matplotlib.pyplot as plt\n",
    "\n",
    "plt.bar(solution1.Year, solution1['Height in Cm'], color = 'green')\n",
    "\n",
    "plt.xticks(solution1.Year)\n",
    "plt.ylabel('Height in Cm')\n",
    "plt.xlabel('Year')\n",
    "\n",
    "\n",
    "# this is another important part which is to specify area otherwise we can not see difference\n",
    "plt.ylim(166, 178)"
   ]
  },
  {
   "cell_type": "code",
   "execution_count": null,
   "id": "a55f2242",
   "metadata": {},
   "outputs": [],
   "source": [
    "# So that is end of project 1 :)"
   ]
  }
 ],
 "metadata": {
  "kernelspec": {
   "display_name": "Python 3 (ipykernel)",
   "language": "python",
   "name": "python3"
  },
  "language_info": {
   "codemirror_mode": {
    "name": "ipython",
    "version": 3
   },
   "file_extension": ".py",
   "mimetype": "text/x-python",
   "name": "python",
   "nbconvert_exporter": "python",
   "pygments_lexer": "ipython3",
   "version": "3.9.12"
  }
 },
 "nbformat": 4,
 "nbformat_minor": 5
}
