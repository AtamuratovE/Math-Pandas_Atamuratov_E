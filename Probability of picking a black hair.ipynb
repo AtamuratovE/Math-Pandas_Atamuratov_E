{
 "cells": [
  {
   "cell_type": "markdown",
   "metadata": {
    "id": "kCrQ2DwQEQ5M"
   },
   "source": [
    "# Probability Distributions with Python"
   ]
  },
  {
   "cell_type": "markdown",
   "metadata": {
    "id": "F3E8u3BKEZx3"
   },
   "source": [
    "### List and num of picks"
   ]
  },
  {
   "cell_type": "code",
   "execution_count": 12,
   "metadata": {
    "id": "2Gz2IB3TDqW8"
   },
   "outputs": [],
   "source": [
    "hair_colors = [\"blonde\", \"brown\", \"black\"]"
   ]
  },
  {
   "cell_type": "code",
   "execution_count": 9,
   "metadata": {
    "id": "8EQVYMA5-Csi"
   },
   "outputs": [],
   "source": [
    "num_of_picks = 5"
   ]
  },
  {
   "cell_type": "markdown",
   "metadata": {
    "id": "uqPlweqCEf4i"
   },
   "source": [
    "### Libraries and calculating"
   ]
  },
  {
   "cell_type": "code",
   "execution_count": 19,
   "metadata": {
    "colab": {
     "base_uri": "https://localhost:8080/"
    },
    "id": "MpUG0DM7Ay0N",
    "outputId": "bffbe4fb-6770-4d67-ed4e-e5e90889f2a6"
   },
   "outputs": [
    {
     "name": "stdout",
     "output_type": "stream",
     "text": [
      "['blonde', 'blonde', 'blonde', 'blonde', 'blonde']\n",
      "['blonde', 'blonde', 'blonde', 'blonde', 'brown']\n",
      "['blonde', 'blonde', 'blonde', 'blonde', 'black']\n",
      "['blonde', 'blonde', 'blonde', 'brown', 'blonde']\n",
      "['blonde', 'blonde', 'blonde', 'brown', 'brown']\n",
      "['blonde', 'blonde', 'blonde', 'brown', 'black']\n",
      "['blonde', 'blonde', 'blonde', 'black', 'blonde']\n",
      "['blonde', 'blonde', 'blonde', 'black', 'brown']\n",
      "['blonde', 'blonde', 'blonde', 'black', 'black']\n",
      "['blonde', 'blonde', 'brown', 'blonde', 'blonde']\n",
      "['blonde', 'blonde', 'brown', 'blonde', 'brown']\n",
      "['blonde', 'blonde', 'brown', 'blonde', 'black']\n",
      "['blonde', 'blonde', 'brown', 'brown', 'blonde']\n",
      "['blonde', 'blonde', 'brown', 'brown', 'brown']\n",
      "['blonde', 'blonde', 'brown', 'brown', 'black']\n",
      "['blonde', 'blonde', 'brown', 'black', 'blonde']\n",
      "['blonde', 'blonde', 'brown', 'black', 'brown']\n",
      "['blonde', 'blonde', 'brown', 'black', 'black']\n",
      "['blonde', 'blonde', 'black', 'blonde', 'blonde']\n",
      "['blonde', 'blonde', 'black', 'blonde', 'brown']\n",
      "['blonde', 'blonde', 'black', 'blonde', 'black']\n",
      "['blonde', 'blonde', 'black', 'brown', 'blonde']\n",
      "['blonde', 'blonde', 'black', 'brown', 'brown']\n",
      "['blonde', 'blonde', 'black', 'brown', 'black']\n",
      "['blonde', 'blonde', 'black', 'black', 'blonde']\n",
      "['blonde', 'blonde', 'black', 'black', 'brown']\n",
      "['blonde', 'blonde', 'black', 'black', 'black']\n",
      "['blonde', 'brown', 'blonde', 'blonde', 'blonde']\n",
      "['blonde', 'brown', 'blonde', 'blonde', 'brown']\n",
      "['blonde', 'brown', 'blonde', 'blonde', 'black']\n",
      "['blonde', 'brown', 'blonde', 'brown', 'blonde']\n",
      "['blonde', 'brown', 'blonde', 'brown', 'brown']\n",
      "['blonde', 'brown', 'blonde', 'brown', 'black']\n",
      "['blonde', 'brown', 'blonde', 'black', 'blonde']\n",
      "['blonde', 'brown', 'blonde', 'black', 'brown']\n",
      "['blonde', 'brown', 'blonde', 'black', 'black']\n",
      "['blonde', 'brown', 'brown', 'blonde', 'blonde']\n",
      "['blonde', 'brown', 'brown', 'blonde', 'brown']\n",
      "['blonde', 'brown', 'brown', 'blonde', 'black']\n",
      "['blonde', 'brown', 'brown', 'brown', 'blonde']\n",
      "['blonde', 'brown', 'brown', 'brown', 'brown']\n",
      "['blonde', 'brown', 'brown', 'brown', 'black']\n",
      "['blonde', 'brown', 'brown', 'black', 'blonde']\n",
      "['blonde', 'brown', 'brown', 'black', 'brown']\n",
      "['blonde', 'brown', 'brown', 'black', 'black']\n",
      "['blonde', 'brown', 'black', 'blonde', 'blonde']\n",
      "['blonde', 'brown', 'black', 'blonde', 'brown']\n",
      "['blonde', 'brown', 'black', 'blonde', 'black']\n",
      "['blonde', 'brown', 'black', 'brown', 'blonde']\n",
      "['blonde', 'brown', 'black', 'brown', 'brown']\n",
      "['blonde', 'brown', 'black', 'brown', 'black']\n",
      "['blonde', 'brown', 'black', 'black', 'blonde']\n",
      "['blonde', 'brown', 'black', 'black', 'brown']\n",
      "['blonde', 'brown', 'black', 'black', 'black']\n",
      "['blonde', 'black', 'blonde', 'blonde', 'blonde']\n",
      "['blonde', 'black', 'blonde', 'blonde', 'brown']\n",
      "['blonde', 'black', 'blonde', 'blonde', 'black']\n",
      "['blonde', 'black', 'blonde', 'brown', 'blonde']\n",
      "['blonde', 'black', 'blonde', 'brown', 'brown']\n",
      "['blonde', 'black', 'blonde', 'brown', 'black']\n",
      "['blonde', 'black', 'blonde', 'black', 'blonde']\n",
      "['blonde', 'black', 'blonde', 'black', 'brown']\n",
      "['blonde', 'black', 'blonde', 'black', 'black']\n",
      "['blonde', 'black', 'brown', 'blonde', 'blonde']\n",
      "['blonde', 'black', 'brown', 'blonde', 'brown']\n",
      "['blonde', 'black', 'brown', 'blonde', 'black']\n",
      "['blonde', 'black', 'brown', 'brown', 'blonde']\n",
      "['blonde', 'black', 'brown', 'brown', 'brown']\n",
      "['blonde', 'black', 'brown', 'brown', 'black']\n",
      "['blonde', 'black', 'brown', 'black', 'blonde']\n",
      "['blonde', 'black', 'brown', 'black', 'brown']\n",
      "['blonde', 'black', 'brown', 'black', 'black']\n",
      "['blonde', 'black', 'black', 'blonde', 'blonde']\n",
      "['blonde', 'black', 'black', 'blonde', 'brown']\n",
      "['blonde', 'black', 'black', 'blonde', 'black']\n",
      "['blonde', 'black', 'black', 'brown', 'blonde']\n",
      "['blonde', 'black', 'black', 'brown', 'brown']\n",
      "['blonde', 'black', 'black', 'brown', 'black']\n",
      "['blonde', 'black', 'black', 'black', 'blonde']\n",
      "['blonde', 'black', 'black', 'black', 'brown']\n",
      "['blonde', 'black', 'black', 'black', 'black']\n",
      "['brown', 'blonde', 'blonde', 'blonde', 'blonde']\n",
      "['brown', 'blonde', 'blonde', 'blonde', 'brown']\n",
      "['brown', 'blonde', 'blonde', 'blonde', 'black']\n",
      "['brown', 'blonde', 'blonde', 'brown', 'blonde']\n",
      "['brown', 'blonde', 'blonde', 'brown', 'brown']\n",
      "['brown', 'blonde', 'blonde', 'brown', 'black']\n",
      "['brown', 'blonde', 'blonde', 'black', 'blonde']\n",
      "['brown', 'blonde', 'blonde', 'black', 'brown']\n",
      "['brown', 'blonde', 'blonde', 'black', 'black']\n",
      "['brown', 'blonde', 'brown', 'blonde', 'blonde']\n",
      "['brown', 'blonde', 'brown', 'blonde', 'brown']\n",
      "['brown', 'blonde', 'brown', 'blonde', 'black']\n",
      "['brown', 'blonde', 'brown', 'brown', 'blonde']\n",
      "['brown', 'blonde', 'brown', 'brown', 'brown']\n",
      "['brown', 'blonde', 'brown', 'brown', 'black']\n",
      "['brown', 'blonde', 'brown', 'black', 'blonde']\n",
      "['brown', 'blonde', 'brown', 'black', 'brown']\n",
      "['brown', 'blonde', 'brown', 'black', 'black']\n",
      "['brown', 'blonde', 'black', 'blonde', 'blonde']\n",
      "['brown', 'blonde', 'black', 'blonde', 'brown']\n",
      "['brown', 'blonde', 'black', 'blonde', 'black']\n",
      "['brown', 'blonde', 'black', 'brown', 'blonde']\n",
      "['brown', 'blonde', 'black', 'brown', 'brown']\n",
      "['brown', 'blonde', 'black', 'brown', 'black']\n",
      "['brown', 'blonde', 'black', 'black', 'blonde']\n",
      "['brown', 'blonde', 'black', 'black', 'brown']\n",
      "['brown', 'blonde', 'black', 'black', 'black']\n",
      "['brown', 'brown', 'blonde', 'blonde', 'blonde']\n",
      "['brown', 'brown', 'blonde', 'blonde', 'brown']\n",
      "['brown', 'brown', 'blonde', 'blonde', 'black']\n",
      "['brown', 'brown', 'blonde', 'brown', 'blonde']\n",
      "['brown', 'brown', 'blonde', 'brown', 'brown']\n",
      "['brown', 'brown', 'blonde', 'brown', 'black']\n",
      "['brown', 'brown', 'blonde', 'black', 'blonde']\n",
      "['brown', 'brown', 'blonde', 'black', 'brown']\n",
      "['brown', 'brown', 'blonde', 'black', 'black']\n",
      "['brown', 'brown', 'brown', 'blonde', 'blonde']\n",
      "['brown', 'brown', 'brown', 'blonde', 'brown']\n",
      "['brown', 'brown', 'brown', 'blonde', 'black']\n",
      "['brown', 'brown', 'brown', 'brown', 'blonde']\n",
      "['brown', 'brown', 'brown', 'brown', 'brown']\n",
      "['brown', 'brown', 'brown', 'brown', 'black']\n",
      "['brown', 'brown', 'brown', 'black', 'blonde']\n",
      "['brown', 'brown', 'brown', 'black', 'brown']\n",
      "['brown', 'brown', 'brown', 'black', 'black']\n",
      "['brown', 'brown', 'black', 'blonde', 'blonde']\n",
      "['brown', 'brown', 'black', 'blonde', 'brown']\n",
      "['brown', 'brown', 'black', 'blonde', 'black']\n",
      "['brown', 'brown', 'black', 'brown', 'blonde']\n",
      "['brown', 'brown', 'black', 'brown', 'brown']\n",
      "['brown', 'brown', 'black', 'brown', 'black']\n",
      "['brown', 'brown', 'black', 'black', 'blonde']\n",
      "['brown', 'brown', 'black', 'black', 'brown']\n",
      "['brown', 'brown', 'black', 'black', 'black']\n",
      "['brown', 'black', 'blonde', 'blonde', 'blonde']\n",
      "['brown', 'black', 'blonde', 'blonde', 'brown']\n",
      "['brown', 'black', 'blonde', 'blonde', 'black']\n",
      "['brown', 'black', 'blonde', 'brown', 'blonde']\n",
      "['brown', 'black', 'blonde', 'brown', 'brown']\n",
      "['brown', 'black', 'blonde', 'brown', 'black']\n",
      "['brown', 'black', 'blonde', 'black', 'blonde']\n",
      "['brown', 'black', 'blonde', 'black', 'brown']\n",
      "['brown', 'black', 'blonde', 'black', 'black']\n",
      "['brown', 'black', 'brown', 'blonde', 'blonde']\n",
      "['brown', 'black', 'brown', 'blonde', 'brown']\n",
      "['brown', 'black', 'brown', 'blonde', 'black']\n",
      "['brown', 'black', 'brown', 'brown', 'blonde']\n",
      "['brown', 'black', 'brown', 'brown', 'brown']\n",
      "['brown', 'black', 'brown', 'brown', 'black']\n",
      "['brown', 'black', 'brown', 'black', 'blonde']\n",
      "['brown', 'black', 'brown', 'black', 'brown']\n",
      "['brown', 'black', 'brown', 'black', 'black']\n",
      "['brown', 'black', 'black', 'blonde', 'blonde']\n",
      "['brown', 'black', 'black', 'blonde', 'brown']\n",
      "['brown', 'black', 'black', 'blonde', 'black']\n",
      "['brown', 'black', 'black', 'brown', 'blonde']\n",
      "['brown', 'black', 'black', 'brown', 'brown']\n",
      "['brown', 'black', 'black', 'brown', 'black']\n",
      "['brown', 'black', 'black', 'black', 'blonde']\n",
      "['brown', 'black', 'black', 'black', 'brown']\n",
      "['brown', 'black', 'black', 'black', 'black']\n",
      "['black', 'blonde', 'blonde', 'blonde', 'blonde']\n",
      "['black', 'blonde', 'blonde', 'blonde', 'brown']\n",
      "['black', 'blonde', 'blonde', 'blonde', 'black']\n",
      "['black', 'blonde', 'blonde', 'brown', 'blonde']\n",
      "['black', 'blonde', 'blonde', 'brown', 'brown']\n",
      "['black', 'blonde', 'blonde', 'brown', 'black']\n",
      "['black', 'blonde', 'blonde', 'black', 'blonde']\n",
      "['black', 'blonde', 'blonde', 'black', 'brown']\n",
      "['black', 'blonde', 'blonde', 'black', 'black']\n",
      "['black', 'blonde', 'brown', 'blonde', 'blonde']\n",
      "['black', 'blonde', 'brown', 'blonde', 'brown']\n",
      "['black', 'blonde', 'brown', 'blonde', 'black']\n",
      "['black', 'blonde', 'brown', 'brown', 'blonde']\n",
      "['black', 'blonde', 'brown', 'brown', 'brown']\n",
      "['black', 'blonde', 'brown', 'brown', 'black']\n",
      "['black', 'blonde', 'brown', 'black', 'blonde']\n",
      "['black', 'blonde', 'brown', 'black', 'brown']\n",
      "['black', 'blonde', 'brown', 'black', 'black']\n",
      "['black', 'blonde', 'black', 'blonde', 'blonde']\n",
      "['black', 'blonde', 'black', 'blonde', 'brown']\n",
      "['black', 'blonde', 'black', 'blonde', 'black']\n",
      "['black', 'blonde', 'black', 'brown', 'blonde']\n",
      "['black', 'blonde', 'black', 'brown', 'brown']\n",
      "['black', 'blonde', 'black', 'brown', 'black']\n",
      "['black', 'blonde', 'black', 'black', 'blonde']\n",
      "['black', 'blonde', 'black', 'black', 'brown']\n",
      "['black', 'blonde', 'black', 'black', 'black']\n",
      "['black', 'brown', 'blonde', 'blonde', 'blonde']\n",
      "['black', 'brown', 'blonde', 'blonde', 'brown']\n",
      "['black', 'brown', 'blonde', 'blonde', 'black']\n",
      "['black', 'brown', 'blonde', 'brown', 'blonde']\n",
      "['black', 'brown', 'blonde', 'brown', 'brown']\n",
      "['black', 'brown', 'blonde', 'brown', 'black']\n",
      "['black', 'brown', 'blonde', 'black', 'blonde']\n",
      "['black', 'brown', 'blonde', 'black', 'brown']\n",
      "['black', 'brown', 'blonde', 'black', 'black']\n",
      "['black', 'brown', 'brown', 'blonde', 'blonde']\n",
      "['black', 'brown', 'brown', 'blonde', 'brown']\n",
      "['black', 'brown', 'brown', 'blonde', 'black']\n",
      "['black', 'brown', 'brown', 'brown', 'blonde']\n",
      "['black', 'brown', 'brown', 'brown', 'brown']\n",
      "['black', 'brown', 'brown', 'brown', 'black']\n",
      "['black', 'brown', 'brown', 'black', 'blonde']\n",
      "['black', 'brown', 'brown', 'black', 'brown']\n",
      "['black', 'brown', 'brown', 'black', 'black']\n",
      "['black', 'brown', 'black', 'blonde', 'blonde']\n",
      "['black', 'brown', 'black', 'blonde', 'brown']\n",
      "['black', 'brown', 'black', 'blonde', 'black']\n",
      "['black', 'brown', 'black', 'brown', 'blonde']\n",
      "['black', 'brown', 'black', 'brown', 'brown']\n",
      "['black', 'brown', 'black', 'brown', 'black']\n",
      "['black', 'brown', 'black', 'black', 'blonde']\n",
      "['black', 'brown', 'black', 'black', 'brown']\n",
      "['black', 'brown', 'black', 'black', 'black']\n",
      "['black', 'black', 'blonde', 'blonde', 'blonde']\n",
      "['black', 'black', 'blonde', 'blonde', 'brown']\n",
      "['black', 'black', 'blonde', 'blonde', 'black']\n",
      "['black', 'black', 'blonde', 'brown', 'blonde']\n",
      "['black', 'black', 'blonde', 'brown', 'brown']\n",
      "['black', 'black', 'blonde', 'brown', 'black']\n",
      "['black', 'black', 'blonde', 'black', 'blonde']\n",
      "['black', 'black', 'blonde', 'black', 'brown']\n",
      "['black', 'black', 'blonde', 'black', 'black']\n",
      "['black', 'black', 'brown', 'blonde', 'blonde']\n",
      "['black', 'black', 'brown', 'blonde', 'brown']\n",
      "['black', 'black', 'brown', 'blonde', 'black']\n",
      "['black', 'black', 'brown', 'brown', 'blonde']\n",
      "['black', 'black', 'brown', 'brown', 'brown']\n",
      "['black', 'black', 'brown', 'brown', 'black']\n",
      "['black', 'black', 'brown', 'black', 'blonde']\n",
      "['black', 'black', 'brown', 'black', 'brown']\n",
      "['black', 'black', 'brown', 'black', 'black']\n",
      "['black', 'black', 'black', 'blonde', 'blonde']\n",
      "['black', 'black', 'black', 'blonde', 'brown']\n",
      "['black', 'black', 'black', 'blonde', 'black']\n",
      "['black', 'black', 'black', 'brown', 'blonde']\n",
      "['black', 'black', 'black', 'brown', 'brown']\n",
      "['black', 'black', 'black', 'brown', 'black']\n",
      "['black', 'black', 'black', 'black', 'blonde']\n",
      "['black', 'black', 'black', 'black', 'brown']\n",
      "['black', 'black', 'black', 'black', 'black']\n",
      "243\n"
     ]
    }
   ],
   "source": [
    "from itertools import product\n",
    "\n",
    "def generate_combinations_with_repetition(hair_colors, num_of_picks):\n",
    "    result = []\n",
    "    for combination in product(hair_colors, repeat=num_of_picks):\n",
    "        result.append(list(combination))\n",
    "    return result\n",
    "\n",
    "hair_colors = [\"blonde\", \"brown\", \"black\"]\n",
    "num_of_picks = 5\n",
    "combinations = generate_combinations_with_repetition(hair_colors, num_of_picks)\n",
    "\n",
    "for combination in combinations:\n",
    "    print(combination)\n",
    "print(len(combinations))\n"
   ]
  },
  {
   "cell_type": "code",
   "execution_count": 34,
   "metadata": {
    "colab": {
     "base_uri": "https://localhost:8080/"
    },
    "id": "31JdBlzwFii_",
    "outputId": "e9ce19da-bf11-4038-b875-778903e398d6"
   },
   "outputs": [
    {
     "name": "stdout",
     "output_type": "stream",
     "text": [
      "Number of times pick of black color is zero: 32\n",
      "Number of times pick of black color is one: 80\n",
      "Number of times pick of black color is two: 80\n",
      "Number of times pick of black color is three: 40\n",
      "Number of times pick of black color is four: 10\n",
      "Number of times pick of black color is five: 1\n",
      "All number of combinations: 243\n"
     ]
    }
   ],
   "source": [
    "zero = 0\n",
    "one = 0\n",
    "two = 0\n",
    "three = 0\n",
    "four = 0\n",
    "five = 0\n",
    "for combination in combinations:\n",
    "  count = 0\n",
    "  for color in combination:\n",
    "    if 'black' == color:\n",
    "      count += 1\n",
    "  if count == 1:\n",
    "    one += 1\n",
    "  if count == 2:\n",
    "    two += 1\n",
    "  if count == 3:\n",
    "    three += 1\n",
    "  if count == 4:\n",
    "    four += 1\n",
    "  if count == 5:\n",
    "    five += 1\n",
    "  if count == 0:\n",
    "    zero += 1\n",
    "\n",
    "print(f'Number of times pick of black color is zero: {zero}')\n",
    "print(f'Number of times pick of black color is one: {one}')\n",
    "print(f'Number of times pick of black color is two: {two}')\n",
    "print(f'Number of times pick of black color is three: {three}')\n",
    "print(f'Number of times pick of black color is four: {four}')\n",
    "print(f'Number of times pick of black color is five: {five}')\n",
    "print(f'All number of combinations: {len(combinations)}')"
   ]
  },
  {
   "cell_type": "markdown",
   "metadata": {
    "id": "qZ2VJePLLUvd"
   },
   "source": [
    "### Probability of each event occuring"
   ]
  },
  {
   "cell_type": "code",
   "execution_count": 48,
   "metadata": {
    "colab": {
     "base_uri": "https://localhost:8080/"
    },
    "id": "T-cq-i8uIGEP",
    "outputId": "93d80c14-904c-45c9-fea1-286256a061a8"
   },
   "outputs": [
    {
     "name": "stdout",
     "output_type": "stream",
     "text": [
      "No. of blacks        P(X = x)\n",
      "    0                0.13%\n",
      "    1                0.33%\n",
      "    2                0.33%\n",
      "    3                0.16%\n",
      "    4                0.04%\n",
      "    5                0.004%\n"
     ]
    }
   ],
   "source": [
    "print(f'No. of blacks        P(X = x)')\n",
    "print(f'    0                {zero/len(combinations):.2f}%')\n",
    "print(f'    1                {one/len(combinations):.2f}%')\n",
    "print(f'    2                {two/len(combinations):.2f}%')\n",
    "print(f'    3                {three/len(combinations):.2f}%')\n",
    "print(f'    4                {four/len(combinations):.2f}%')\n",
    "print(f'    5                {five/len(combinations):.3f}%')"
   ]
  },
  {
   "cell_type": "code",
   "execution_count": null,
   "metadata": {
    "id": "5Y3NXD6BMppC"
   },
   "outputs": [],
   "source": []
  }
 ],
 "metadata": {
  "colab": {
   "provenance": [],
   "toc_visible": true
  },
  "kernelspec": {
   "display_name": "Python 3 (ipykernel)",
   "language": "python",
   "name": "python3"
  },
  "language_info": {
   "codemirror_mode": {
    "name": "ipython",
    "version": 3
   },
   "file_extension": ".py",
   "mimetype": "text/x-python",
   "name": "python",
   "nbconvert_exporter": "python",
   "pygments_lexer": "ipython3",
   "version": "3.10.10"
  }
 },
 "nbformat": 4,
 "nbformat_minor": 1
}
