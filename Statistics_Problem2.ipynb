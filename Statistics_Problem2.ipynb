{
 "cells": [
  {
   "cell_type": "markdown",
   "id": "750f2dbe",
   "metadata": {},
   "source": [
    "### Problem 2"
   ]
  },
  {
   "cell_type": "markdown",
   "id": "b89c9576",
   "metadata": {},
   "source": [
    "#### Task #1: insert values to data frame"
   ]
  },
  {
   "cell_type": "code",
   "execution_count": 91,
   "id": "7c135219",
   "metadata": {},
   "outputs": [],
   "source": [
    "import pandas as pd\n",
    "import os"
   ]
  },
  {
   "cell_type": "code",
   "execution_count": 92,
   "id": "7a0a5fc3",
   "metadata": {},
   "outputs": [
    {
     "data": {
      "text/html": [
       "<div>\n",
       "<style scoped>\n",
       "    .dataframe tbody tr th:only-of-type {\n",
       "        vertical-align: middle;\n",
       "    }\n",
       "\n",
       "    .dataframe tbody tr th {\n",
       "        vertical-align: top;\n",
       "    }\n",
       "\n",
       "    .dataframe thead th {\n",
       "        text-align: right;\n",
       "    }\n",
       "</style>\n",
       "<table border=\"1\" class=\"dataframe\">\n",
       "  <thead>\n",
       "    <tr style=\"text-align: right;\">\n",
       "      <th></th>\n",
       "      <th>Measure</th>\n",
       "      <th>Sample Size</th>\n",
       "      <th>Mean</th>\n",
       "      <th>SD</th>\n",
       "    </tr>\n",
       "  </thead>\n",
       "  <tbody>\n",
       "    <tr>\n",
       "      <th>0</th>\n",
       "      <td>Data Set A</td>\n",
       "      <td>15670</td>\n",
       "      <td>550</td>\n",
       "      <td>432</td>\n",
       "    </tr>\n",
       "    <tr>\n",
       "      <th>1</th>\n",
       "      <td>Data Set B</td>\n",
       "      <td>4500</td>\n",
       "      <td>464</td>\n",
       "      <td>140</td>\n",
       "    </tr>\n",
       "    <tr>\n",
       "      <th>2</th>\n",
       "      <td>Data Set C</td>\n",
       "      <td>9334</td>\n",
       "      <td>534</td>\n",
       "      <td>210</td>\n",
       "    </tr>\n",
       "  </tbody>\n",
       "</table>\n",
       "</div>"
      ],
      "text/plain": [
       "      Measure  Sample Size  Mean   SD\n",
       "0  Data Set A        15670   550  432\n",
       "1  Data Set B         4500   464  140\n",
       "2  Data Set C         9334   534  210"
      ]
     },
     "execution_count": 92,
     "metadata": {},
     "output_type": "execute_result"
    }
   ],
   "source": [
    "StudentWeigh = pd.DataFrame(\n",
    "\n",
    "    {\n",
    "        'Measure':['Data Set A', 'Data Set B', 'Data Set C'],\n",
    "        'Sample Size':[15670, 4500, 9334],\n",
    "        'Mean':[550, 464, 534],\n",
    "        'SD':[432, 140, 210] # Standard deviation\n",
    "    }\n",
    ")\n",
    "\n",
    "StudentWeigh"
   ]
  },
  {
   "cell_type": "markdown",
   "id": "a554aad7",
   "metadata": {},
   "source": [
    "#### Task #2: Convert Standard deviation to pounds using 1 kg = 2.204 lb (Because set is in lb we need kg)"
   ]
  },
  {
   "cell_type": "code",
   "execution_count": 93,
   "id": "9744c937",
   "metadata": {},
   "outputs": [],
   "source": [
    "Mean = StudentWeigh['Mean']/2.204 \n",
    "SD = StudentWeigh['SD']/2.204 # SD is short form of Standard deviation "
   ]
  },
  {
   "cell_type": "code",
   "execution_count": 94,
   "id": "bbd5505a",
   "metadata": {},
   "outputs": [
    {
     "data": {
      "text/plain": [
       "0    196.007260\n",
       "1     63.520871\n",
       "2     95.281307\n",
       "Name: Standard Deviation, dtype: float64"
      ]
     },
     "execution_count": 94,
     "metadata": {},
     "output_type": "execute_result"
    }
   ],
   "source": [
    "Mean\n",
    "Standard_deviation"
   ]
  },
  {
   "cell_type": "markdown",
   "id": "64111448",
   "metadata": {},
   "source": [
    "#### To find preffered data set we first find CV ( coefficient of variation )"
   ]
  },
  {
   "cell_type": "code",
   "execution_count": 95,
   "id": "c4a67b38",
   "metadata": {},
   "outputs": [],
   "source": [
    "CV = (SD / Mean)*100"
   ]
  },
  {
   "cell_type": "code",
   "execution_count": 96,
   "id": "11e57120",
   "metadata": {
    "scrolled": true
   },
   "outputs": [],
   "source": [
    "CV = CV.round() # You can skip this part I did it to make data more accurate\n",
    "CV = CV.astype(int) # converting data to integer to get rid of (.0 at the end) otherwise data will look like 79.0% \n",
    "CV = CV.astype(str) # converting it to string to be able to add %\n",
    "CV = CV + '%' # Coefficient of variation is mostly expressed in % so its better to add % sign"
   ]
  },
  {
   "cell_type": "code",
   "execution_count": 97,
   "id": "e56f45dc",
   "metadata": {},
   "outputs": [
    {
     "data": {
      "text/plain": [
       "0    79%\n",
       "1    30%\n",
       "2    39%\n",
       "dtype: object"
      ]
     },
     "execution_count": 97,
     "metadata": {},
     "output_type": "execute_result"
    }
   ],
   "source": [
    "CV"
   ]
  },
  {
   "cell_type": "markdown",
   "id": "877ce5aa",
   "metadata": {},
   "source": [
    "### Task #3: Find a preferred data set"
   ]
  },
  {
   "cell_type": "markdown",
   "id": "57977918",
   "metadata": {},
   "source": [
    "#### Finished with preparing data now start analysing :)"
   ]
  },
  {
   "cell_type": "code",
   "execution_count": 98,
   "id": "87e67e03",
   "metadata": {},
   "outputs": [],
   "source": [
    "StudentWeigh['CV'] = CV"
   ]
  },
  {
   "cell_type": "code",
   "execution_count": 99,
   "id": "9a36265b",
   "metadata": {},
   "outputs": [
    {
     "data": {
      "text/html": [
       "<div>\n",
       "<style scoped>\n",
       "    .dataframe tbody tr th:only-of-type {\n",
       "        vertical-align: middle;\n",
       "    }\n",
       "\n",
       "    .dataframe tbody tr th {\n",
       "        vertical-align: top;\n",
       "    }\n",
       "\n",
       "    .dataframe thead th {\n",
       "        text-align: right;\n",
       "    }\n",
       "</style>\n",
       "<table border=\"1\" class=\"dataframe\">\n",
       "  <thead>\n",
       "    <tr style=\"text-align: right;\">\n",
       "      <th></th>\n",
       "      <th>Measure</th>\n",
       "      <th>Sample Size</th>\n",
       "      <th>Mean</th>\n",
       "      <th>SD</th>\n",
       "      <th>CV</th>\n",
       "    </tr>\n",
       "  </thead>\n",
       "  <tbody>\n",
       "    <tr>\n",
       "      <th>0</th>\n",
       "      <td>Data Set A</td>\n",
       "      <td>15670</td>\n",
       "      <td>550</td>\n",
       "      <td>432</td>\n",
       "      <td>79%</td>\n",
       "    </tr>\n",
       "    <tr>\n",
       "      <th>1</th>\n",
       "      <td>Data Set B</td>\n",
       "      <td>4500</td>\n",
       "      <td>464</td>\n",
       "      <td>140</td>\n",
       "      <td>30%</td>\n",
       "    </tr>\n",
       "    <tr>\n",
       "      <th>2</th>\n",
       "      <td>Data Set C</td>\n",
       "      <td>9334</td>\n",
       "      <td>534</td>\n",
       "      <td>210</td>\n",
       "      <td>39%</td>\n",
       "    </tr>\n",
       "  </tbody>\n",
       "</table>\n",
       "</div>"
      ],
      "text/plain": [
       "      Measure  Sample Size  Mean   SD   CV\n",
       "0  Data Set A        15670   550  432  79%\n",
       "1  Data Set B         4500   464  140  30%\n",
       "2  Data Set C         9334   534  210  39%"
      ]
     },
     "execution_count": 99,
     "metadata": {},
     "output_type": "execute_result"
    }
   ],
   "source": [
    "StudentWeigh"
   ]
  },
  {
   "cell_type": "markdown",
   "id": "0504ee2c",
   "metadata": {},
   "source": [
    "#### In our question we are asked to choose data set with low variability & large sample size"
   ]
  },
  {
   "cell_type": "markdown",
   "id": "4f1d3066",
   "metadata": {},
   "source": [
    "A is big in sample size but it deviates from the mean a lot '79%'\n",
    "On the other hand B does not deviates from the mean that much but it is really small data set compared to C which really does not make much difference in CV with B But almost doubled data size.\n",
    "\n",
    "So it's better to choose Data Set C "
   ]
  },
  {
   "cell_type": "code",
   "execution_count": 100,
   "id": "f2c3ca8d",
   "metadata": {},
   "outputs": [
    {
     "name": "stdout",
     "output_type": "stream",
     "text": [
      "      Measure  Sample Size  Mean   SD   CV\n",
      "2  Data Set C         9334   534  210  39%\n"
     ]
    }
   ],
   "source": [
    "# Best data set to work on :)\n",
    "print(StudentWeigh.loc[[2]])"
   ]
  },
  {
   "cell_type": "code",
   "execution_count": 101,
   "id": "1a66b762",
   "metadata": {},
   "outputs": [],
   "source": [
    "# end of the project"
   ]
  },
  {
   "cell_type": "code",
   "execution_count": null,
   "id": "ebcbdca4",
   "metadata": {},
   "outputs": [],
   "source": []
  }
 ],
 "metadata": {
  "kernelspec": {
   "display_name": "Python 3 (ipykernel)",
   "language": "python",
   "name": "python3"
  },
  "language_info": {
   "codemirror_mode": {
    "name": "ipython",
    "version": 3
   },
   "file_extension": ".py",
   "mimetype": "text/x-python",
   "name": "python",
   "nbconvert_exporter": "python",
   "pygments_lexer": "ipython3",
   "version": "3.9.12"
  }
 },
 "nbformat": 4,
 "nbformat_minor": 5
}
