{
 "cells": [
  {
   "cell_type": "markdown",
   "id": "cf775f86",
   "metadata": {},
   "source": [
    "## The Moore-Penrose Pseudoinverse"
   ]
  },
  {
   "cell_type": "markdown",
   "id": "1424e022",
   "metadata": {},
   "source": [
    "Unlike Matrix inverse in Pseudoinverse we can work with any matrix it is not required to be square matrix\n",
    "\n",
    "When I learned what matrix inverse can do I was facinated because with matrix inverse you can predict any event that occured multiple times there is some inconvenience hovewer because it requires square matrix and can't always have as much features as you have data-points or wise versa also can happen but seeing that there exists a method like The Moore-Penrose Pseudoinverse is just mesmerized Now I know knowing this I felt like waw that is great with this you can predict anything 'not literally' but most of the things we face in daily life."
   ]
  },
  {
   "cell_type": "markdown",
   "id": "84984547",
   "metadata": {},
   "source": [
    "## Horse Weight prediction"
   ]
  },
  {
   "cell_type": "markdown",
   "id": "f0a1dc90",
   "metadata": {},
   "source": [
    "### Task 1: Finc, collect data"
   ]
  },
  {
   "cell_type": "markdown",
   "id": "f8f1fb49",
   "metadata": {},
   "source": [
    "I found horse details.csv file in kaggle where there are info about Horse-Gender, Horse-Height, Horse-Weight, Racer-Horse\n",
    "\n",
    "here I want to use only two features that is why I'm taking **heigh** and **weight** only"
   ]
  },
  {
   "cell_type": "markdown",
   "id": "c894477c",
   "metadata": {},
   "source": [
    "I have the whole csv file yhough I'm entering data points mannualy because I think this is much interesting in this way"
   ]
  },
  {
   "cell_type": "code",
   "execution_count": 8,
   "id": "49d2aa11",
   "metadata": {},
   "outputs": [],
   "source": [
    "import numpy as np\n",
    "import matplotlib.pyplot as plt"
   ]
  },
  {
   "cell_type": "code",
   "execution_count": 9,
   "id": "726f32ae",
   "metadata": {},
   "outputs": [],
   "source": [
    "x1 = np.array([51, 46, 63, 52, 72, 60, 50, 62, 62, 53, 57, 51, 32, 63, 52])  # x / height in inches"
   ]
  },
  {
   "cell_type": "code",
   "execution_count": 10,
   "id": "0dba8489",
   "metadata": {},
   "outputs": [],
   "source": [
    "y = np.array([409, 389, 731, 415, 1181, 607, 406, 778, 759, 464, 571, 436, 217, 735, 427])  # y / weight in kg"
   ]
  },
  {
   "cell_type": "code",
   "execution_count": 11,
   "id": "e28c5724",
   "metadata": {},
   "outputs": [],
   "source": [
    "title = 'Horse weight prediction'\n",
    "xlabel = 'Horse height in (inch)'\n",
    "ylabel = 'Horse weight in  (kg)'"
   ]
  },
  {
   "cell_type": "code",
   "execution_count": 12,
   "id": "3637781b",
   "metadata": {},
   "outputs": [
    {
     "data": {
      "image/png": "[encoded data removed]",
      "text/plain": [
       "<Figure size 640x480 with 1 Axes>"
      ]
     },
     "metadata": {},
     "output_type": "display_data"
    }
   ],
   "source": [
    "fig, ax = plt.subplots()\n",
    "plt.title(title)\n",
    "plt.xlabel(xlabel)\n",
    "plt.ylabel(ylabel)\n",
    "_= ax.scatter(x1, y)"
   ]
  },
  {
   "cell_type": "markdown",
   "id": "c3dda640",
   "metadata": {},
   "source": [
    "### our data certainly not clean one everything is all over the place let's see the power of Horse_weight The Moore-Penrose Pseudoinverse"
   ]
  },
  {
   "cell_type": "markdown",
   "id": "9dbb949a",
   "metadata": {},
   "source": [
    "In the material that I'm learning from says that we need another matrix without it line would pass through origin (0, 0) so let's add that."
   ]
  },
  {
   "cell_type": "code",
   "execution_count": 16,
   "id": "cca8d1e8",
   "metadata": {},
   "outputs": [
    {
     "data": {
      "text/plain": [
       "array([1., 1., 1., 1., 1., 1., 1., 1., 1., 1., 1., 1., 1., 1., 1.])"
      ]
     },
     "execution_count": 16,
     "metadata": {},
     "output_type": "execute_result"
    }
   ],
   "source": [
    "x0 = np.ones(15) # here we create 15 1's that equals to data points we have\n",
    "x0"
   ]
  },
  {
   "cell_type": "markdown",
   "id": "c0c7f661",
   "metadata": {},
   "source": [
    "concatenate x0 and x1 into matrix X:"
   ]
  },
  {
   "cell_type": "code",
   "execution_count": 17,
   "id": "72741f83",
   "metadata": {},
   "outputs": [
    {
     "data": {
      "text/plain": [
       "matrix([[ 1., 51.],\n",
       "        [ 1., 46.],\n",
       "        [ 1., 63.],\n",
       "        [ 1., 52.],\n",
       "        [ 1., 72.],\n",
       "        [ 1., 60.],\n",
       "        [ 1., 50.],\n",
       "        [ 1., 62.],\n",
       "        [ 1., 62.],\n",
       "        [ 1., 53.],\n",
       "        [ 1., 57.],\n",
       "        [ 1., 51.],\n",
       "        [ 1., 32.],\n",
       "        [ 1., 63.],\n",
       "        [ 1., 52.]])"
      ]
     },
     "execution_count": 17,
     "metadata": {},
     "output_type": "execute_result"
    }
   ],
   "source": [
    "X = np.concatenate((np.matrix(x0).T, np.matrix(x1).T), axis=1)\n",
    "X"
   ]
  },
  {
   "cell_type": "markdown",
   "id": "0842da65",
   "metadata": {},
   "source": [
    "formula to calculate w is $ w = X^+y $:"
   ]
  },
  {
   "cell_type": "code",
   "execution_count": 20,
   "id": "e885c56b",
   "metadata": {},
   "outputs": [
    {
     "data": {
      "text/plain": [
       "matrix([[-718.70931113,   23.37244512]])"
      ]
     },
     "execution_count": 20,
     "metadata": {},
     "output_type": "execute_result"
    }
   ],
   "source": [
    "w = np.dot(np.linalg.pinv(X), y)\n",
    "w"
   ]
  },
  {
   "cell_type": "markdown",
   "id": "9e3d632e",
   "metadata": {},
   "source": [
    "The first weight corresponds to the y-intercept of the line, which is typically denoted as b: \n",
    "this is bias and is constant when every other value of independent variables are (X = 0) y = b"
   ]
  },
  {
   "cell_type": "code",
   "execution_count": 41,
   "id": "46ad4740",
   "metadata": {},
   "outputs": [
    {
     "data": {
      "text/plain": [
       "-718.7093111279335"
      ]
     },
     "execution_count": 41,
     "metadata": {},
     "output_type": "execute_result"
    }
   ],
   "source": [
    "b = np.asarray(w).reshape(-1)[0]\n",
    "b"
   ]
  },
  {
   "cell_type": "markdown",
   "id": "32dffba7",
   "metadata": {},
   "source": [
    "And the second weight corresponds to the slope of the line, which is typically denoted as m:\n",
    "\n",
    "we can them both in equation like $ y = mx + b $"
   ]
  },
  {
   "cell_type": "code",
   "execution_count": 42,
   "id": "27fb4279",
   "metadata": {},
   "outputs": [
    {
     "data": {
      "text/plain": [
       "23.37244511733535"
      ]
     },
     "execution_count": 42,
     "metadata": {},
     "output_type": "execute_result"
    }
   ],
   "source": [
    "m = np.asarray(w).reshape(-1)[1]\n",
    "m"
   ]
  },
  {
   "cell_type": "markdown",
   "id": "16e0d39a",
   "metadata": {},
   "source": [
    "we can plot it to see how it fits the points:"
   ]
  },
  {
   "cell_type": "code",
   "execution_count": 44,
   "id": "578eafab",
   "metadata": {},
   "outputs": [
    {
     "data": {
      "image/png": "[encoded data removed]",
      "text/plain": [
       "<Figure size 640x480 with 1 Axes>"
      ]
     },
     "metadata": {},
     "output_type": "display_data"
    }
   ],
   "source": [
    "fig, ax = plt.subplots()\n",
    "\n",
    "plt.title(title)\n",
    "plt.xlabel(xlabel)\n",
    "plt.ylabel(ylabel)\n",
    "\n",
    "ax.scatter(x1, y)\n",
    "\n",
    "x_min, x_max = ax.get_xlim()\n",
    "y_at_xmin = m*x_min + b\n",
    "y_at_xmax = m*x_max + b\n",
    "\n",
    "ax.set_xlim([x_min, x_max])\n",
    "_= ax.plot([x_min, x_max], [y_at_xmin, y_at_xmax], c='C01')"
   ]
  },
  {
   "cell_type": "code",
   "execution_count": null,
   "id": "e0986995",
   "metadata": {},
   "outputs": [],
   "source": []
  },
  {
   "cell_type": "markdown",
   "id": "08ccfe62",
   "metadata": {},
   "source": [
    "and $ Xw = y $ let's check how accurate can our model predict"
   ]
  },
  {
   "cell_type": "code",
   "execution_count": 46,
   "id": "e005a46b",
   "metadata": {},
   "outputs": [],
   "source": [
    "xtest = np.array([63, 62, 70, 54, 56, 39, 60, 57, 40, 59]) # x for testing data-set"
   ]
  },
  {
   "cell_type": "code",
   "execution_count": 47,
   "id": "38431459",
   "metadata": {},
   "outputs": [
    {
     "data": {
      "text/plain": [
       "array([ 782,  761, 1121,  487,  578,  275,  608,  500,  279,  653])"
      ]
     },
     "execution_count": 47,
     "metadata": {},
     "output_type": "execute_result"
    }
   ],
   "source": [
    "ytest = np.array([782, 761, 1121, 487, 578, 275, 608, 500, 279, 653]) # y for testing data-set\n",
    "ytest"
   ]
  },
  {
   "cell_type": "markdown",
   "id": "210601ea",
   "metadata": {},
   "source": [
    " Now let's see what we get from this 😐"
   ]
  },
  {
   "cell_type": "code",
   "execution_count": 48,
   "id": "a81f5443",
   "metadata": {},
   "outputs": [],
   "source": [
    "x0 = np.ones(10) # again we create 10 ones"
   ]
  },
  {
   "cell_type": "code",
   "execution_count": 49,
   "id": "e7c41685",
   "metadata": {},
   "outputs": [
    {
     "data": {
      "text/plain": [
       "matrix([[ 1., 63.],\n",
       "        [ 1., 62.],\n",
       "        [ 1., 70.],\n",
       "        [ 1., 54.],\n",
       "        [ 1., 56.],\n",
       "        [ 1., 39.],\n",
       "        [ 1., 60.],\n",
       "        [ 1., 57.],\n",
       "        [ 1., 40.],\n",
       "        [ 1., 59.]])"
      ]
     },
     "execution_count": 49,
     "metadata": {},
     "output_type": "execute_result"
    }
   ],
   "source": [
    "X = np.concatenate((np.matrix(x0).T, np.matrix(xtest).T), axis=1)\n",
    "X"
   ]
  },
  {
   "cell_type": "code",
   "execution_count": 50,
   "id": "28e8c6c8",
   "metadata": {},
   "outputs": [
    {
     "data": {
      "text/plain": [
       "matrix([[753.75473126],\n",
       "        [730.38228615],\n",
       "        [917.36184709],\n",
       "        [543.40272521],\n",
       "        [590.14761544],\n",
       "        [192.81604845],\n",
       "        [683.63739591],\n",
       "        [613.52006056],\n",
       "        [216.18849357],\n",
       "        [660.26495079]])"
      ]
     },
     "execution_count": 50,
     "metadata": {},
     "output_type": "execute_result"
    }
   ],
   "source": [
    "y_pred = np.dot(X, w.T)\n",
    "y_pred"
   ]
  },
  {
   "cell_type": "markdown",
   "id": "cddbe9cf",
   "metadata": {},
   "source": [
    "#### Oh I love it look at this it's predicting so accurate it should be about 70-80 % 15 data points are givng great results, with matrix inverse it was about 15-20 % accuracy compared to that this is great. 🙊🙉\n",
    "\n",
    "### Let's plot it"
   ]
  },
  {
   "cell_type": "code",
   "execution_count": 57,
   "id": "dda734a9",
   "metadata": {},
   "outputs": [
    {
     "data": {
      "image/png": "[encoded data removed]",
      "text/plain": [
       "<Figure size 640x480 with 1 Axes>"
      ]
     },
     "metadata": {},
     "output_type": "display_data"
    }
   ],
   "source": [
    "fig, ax = plt.subplots()\n",
    "\n",
    "plt.title('Visualizing the Test-set')\n",
    "plt.xlabel(xlabel)\n",
    "plt.ylabel(ylabel)\n",
    "\n",
    "ax.scatter(xtest, ytest)\n",
    "\n",
    "x_min, x_max = ax.get_xlim()\n",
    "y_at_xmin = m*x_min + b\n",
    "y_at_xmax = m*x_max + b\n",
    "\n",
    "ax.set_xlim([x_min, x_max])\n",
    "_= ax.plot([x_min, x_max], [y_at_xmin, y_at_xmax], c='C01')"
   ]
  },
  {
   "cell_type": "markdown",
   "id": "9d59ffc0",
   "metadata": {},
   "source": [
    "###That is the end "
   ]
  },
  {
   "cell_type": "code",
   "execution_count": null,
   "id": "5874c868",
   "metadata": {},
   "outputs": [],
   "source": []
  },
  {
   "cell_type": "code",
   "execution_count": null,
   "id": "54eabb2f",
   "metadata": {},
   "outputs": [],
   "source": []
  },
  {
   "cell_type": "code",
   "execution_count": null,
   "id": "0fe4a254",
   "metadata": {},
   "outputs": [],
   "source": []
  },
  {
   "cell_type": "code",
   "execution_count": null,
   "id": "2df18b78",
   "metadata": {},
   "outputs": [],
   "source": []
  },
  {
   "cell_type": "code",
   "execution_count": null,
   "id": "9ca46480",
   "metadata": {},
   "outputs": [],
   "source": []
  }
 ],
 "metadata": {
  "kernelspec": {
   "display_name": "Python 3 (ipykernel)",
   "language": "python",
   "name": "python3"
  },
  "language_info": {
   "codemirror_mode": {
    "name": "ipython",
    "version": 3
   },
   "file_extension": ".py",
   "mimetype": "text/x-python",
   "name": "python",
   "nbconvert_exporter": "python",
   "pygments_lexer": "ipython3",
   "version": "3.10.6"
  }
 },
 "nbformat": 4,
 "nbformat_minor": 5
}
