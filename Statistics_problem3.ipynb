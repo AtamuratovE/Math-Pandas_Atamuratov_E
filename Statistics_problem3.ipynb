{
 "cells": [
  {
   "cell_type": "code",
   "execution_count": 190,
   "id": "d3e766e5",
   "metadata": {},
   "outputs": [],
   "source": [
    "import pandas as pd\n",
    "import os"
   ]
  },
  {
   "cell_type": "code",
   "execution_count": 191,
   "id": "054f0ec2",
   "metadata": {},
   "outputs": [],
   "source": [
    "Time_spent = pd.DataFrame(\n",
    "\n",
    "    {\n",
    "        'Age':['20-22','23-25','26-28','29-31','32-34','35-37','38-40'],\n",
    "        'Hours':[45, 36, 25, 16, 12, 8.5, 4]\n",
    "    }\n",
    "    \n",
    ")"
   ]
  },
  {
   "cell_type": "code",
   "execution_count": 192,
   "id": "17206974",
   "metadata": {},
   "outputs": [
    {
     "data": {
      "text/html": [
       "<div>\n",
       "<style scoped>\n",
       "    .dataframe tbody tr th:only-of-type {\n",
       "        vertical-align: middle;\n",
       "    }\n",
       "\n",
       "    .dataframe tbody tr th {\n",
       "        vertical-align: top;\n",
       "    }\n",
       "\n",
       "    .dataframe thead th {\n",
       "        text-align: right;\n",
       "    }\n",
       "</style>\n",
       "<table border=\"1\" class=\"dataframe\">\n",
       "  <thead>\n",
       "    <tr style=\"text-align: right;\">\n",
       "      <th></th>\n",
       "      <th>Age</th>\n",
       "      <th>Hours</th>\n",
       "    </tr>\n",
       "  </thead>\n",
       "  <tbody>\n",
       "    <tr>\n",
       "      <th>0</th>\n",
       "      <td>20-22</td>\n",
       "      <td>45.0</td>\n",
       "    </tr>\n",
       "    <tr>\n",
       "      <th>1</th>\n",
       "      <td>23-25</td>\n",
       "      <td>36.0</td>\n",
       "    </tr>\n",
       "    <tr>\n",
       "      <th>2</th>\n",
       "      <td>26-28</td>\n",
       "      <td>25.0</td>\n",
       "    </tr>\n",
       "    <tr>\n",
       "      <th>3</th>\n",
       "      <td>29-31</td>\n",
       "      <td>16.0</td>\n",
       "    </tr>\n",
       "    <tr>\n",
       "      <th>4</th>\n",
       "      <td>32-34</td>\n",
       "      <td>12.0</td>\n",
       "    </tr>\n",
       "    <tr>\n",
       "      <th>5</th>\n",
       "      <td>35-37</td>\n",
       "      <td>8.5</td>\n",
       "    </tr>\n",
       "    <tr>\n",
       "      <th>6</th>\n",
       "      <td>38-40</td>\n",
       "      <td>4.0</td>\n",
       "    </tr>\n",
       "  </tbody>\n",
       "</table>\n",
       "</div>"
      ],
      "text/plain": [
       "     Age  Hours\n",
       "0  20-22   45.0\n",
       "1  23-25   36.0\n",
       "2  26-28   25.0\n",
       "3  29-31   16.0\n",
       "4  32-34   12.0\n",
       "5  35-37    8.5\n",
       "6  38-40    4.0"
      ]
     },
     "execution_count": 192,
     "metadata": {},
     "output_type": "execute_result"
    }
   ],
   "source": [
    "Time_spent"
   ]
  },
  {
   "cell_type": "code",
   "execution_count": 193,
   "id": "cd3120ef",
   "metadata": {},
   "outputs": [
    {
     "data": {
      "text/plain": [
       "Text(0.5, 0, 'Age')"
      ]
     },
     "execution_count": 193,
     "metadata": {},
     "output_type": "execute_result"
    },
    {
     "data": {
      "image/png": "[encoded data removed]",
      "text/plain": [
       "<Figure size 432x288 with 1 Axes>"
      ]
     },
     "metadata": {
      "needs_background": "light"
     },
     "output_type": "display_data"
    }
   ],
   "source": [
    "import matplotlib.pyplot as plt\n",
    "\n",
    "plt.bar(Time_spent.Age, Time_spent['Hours'], color = 'lime')# I like this color 🙂\n",
    "plt.xticks(Time_spent.Age)\n",
    "plt.ylabel('Time spent on the phone in hours')\n",
    "plt.xlabel('Age')"
   ]
  },
  {
   "cell_type": "markdown",
   "id": "b54d3f61",
   "metadata": {},
   "source": [
    "#### Task #2:  find mean of age "
   ]
  },
  {
   "cell_type": "code",
   "execution_count": 194,
   "id": "9ff48bd4",
   "metadata": {},
   "outputs": [
    {
     "data": {
      "text/html": [
       "<div>\n",
       "<style scoped>\n",
       "    .dataframe tbody tr th:only-of-type {\n",
       "        vertical-align: middle;\n",
       "    }\n",
       "\n",
       "    .dataframe tbody tr th {\n",
       "        vertical-align: top;\n",
       "    }\n",
       "\n",
       "    .dataframe thead th {\n",
       "        text-align: right;\n",
       "    }\n",
       "</style>\n",
       "<table border=\"1\" class=\"dataframe\">\n",
       "  <thead>\n",
       "    <tr style=\"text-align: right;\">\n",
       "      <th></th>\n",
       "      <th>Age</th>\n",
       "      <th>Hours</th>\n",
       "      <th>Mean_Age</th>\n",
       "    </tr>\n",
       "  </thead>\n",
       "  <tbody>\n",
       "    <tr>\n",
       "      <th>0</th>\n",
       "      <td>20-22</td>\n",
       "      <td>45.0</td>\n",
       "      <td>21</td>\n",
       "    </tr>\n",
       "    <tr>\n",
       "      <th>1</th>\n",
       "      <td>23-25</td>\n",
       "      <td>36.0</td>\n",
       "      <td>24</td>\n",
       "    </tr>\n",
       "    <tr>\n",
       "      <th>2</th>\n",
       "      <td>26-28</td>\n",
       "      <td>25.0</td>\n",
       "      <td>27</td>\n",
       "    </tr>\n",
       "    <tr>\n",
       "      <th>3</th>\n",
       "      <td>29-31</td>\n",
       "      <td>16.0</td>\n",
       "      <td>30</td>\n",
       "    </tr>\n",
       "    <tr>\n",
       "      <th>4</th>\n",
       "      <td>32-34</td>\n",
       "      <td>12.0</td>\n",
       "      <td>33</td>\n",
       "    </tr>\n",
       "    <tr>\n",
       "      <th>5</th>\n",
       "      <td>35-37</td>\n",
       "      <td>8.5</td>\n",
       "      <td>36</td>\n",
       "    </tr>\n",
       "    <tr>\n",
       "      <th>6</th>\n",
       "      <td>38-40</td>\n",
       "      <td>4.0</td>\n",
       "      <td>39</td>\n",
       "    </tr>\n",
       "  </tbody>\n",
       "</table>\n",
       "</div>"
      ],
      "text/plain": [
       "     Age  Hours  Mean_Age\n",
       "0  20-22   45.0        21\n",
       "1  23-25   36.0        24\n",
       "2  26-28   25.0        27\n",
       "3  29-31   16.0        30\n",
       "4  32-34   12.0        33\n",
       "5  35-37    8.5        36\n",
       "6  38-40    4.0        39"
      ]
     },
     "execution_count": 194,
     "metadata": {},
     "output_type": "execute_result"
    }
   ],
   "source": [
    "# here we are find mean of every age group\n",
    "Time_spent['Mean_Age'] = (Time_spent['Age'].str[3:5].astype(int) + Time_spent['Age'].str[0:2].astype(int))//2 # here I used // instead of / because we need integer devision. \n",
    "\n",
    "Time_spent\n"
   ]
  },
  {
   "cell_type": "markdown",
   "id": "b7cefb07",
   "metadata": {},
   "source": [
    "#### When finding group mean we need sum of hours, so we find it"
   ]
  },
  {
   "cell_type": "code",
   "execution_count": 195,
   "id": "13bcba49",
   "metadata": {},
   "outputs": [
    {
     "data": {
      "text/plain": [
       "146.5"
      ]
     },
     "execution_count": 195,
     "metadata": {},
     "output_type": "execute_result"
    }
   ],
   "source": [
    "sum_hours = 0\n",
    "for index, row in Time_spent.iterrows():\n",
    "       sum_hours = sum_hours + row['Hours']\n",
    "sum_hours        \n",
    "\n",
    "        \n",
    "        "
   ]
  },
  {
   "cell_type": "code",
   "execution_count": 196,
   "id": "d36c510f",
   "metadata": {},
   "outputs": [
    {
     "data": {
      "text/plain": [
       "3822.0"
      ]
     },
     "execution_count": 196,
     "metadata": {},
     "output_type": "execute_result"
    }
   ],
   "source": [
    "# you can find formula for 'group mean' which we are going to use right now.\n",
    "# we find num Of Hours * xMean I will denote that by Mul_of_Hour_mean // just A was better :)\n",
    "# then we devide that by total of hours\n",
    "\n",
    "\n",
    "# we find multiple of x to store multip\n",
    "Time_spent['Mul_of_Hour_mean'] = Time_spent['Mean_Age'] * Time_spent['Hours']\n",
    "\n",
    "\n",
    "sum_F = 0\n",
    "for index, row in Time_spent.iterrows():\n",
    "       sum_F = sum_F + row['Mul_of_Hour_mean']\n",
    "sum_F"
   ]
  },
  {
   "cell_type": "markdown",
   "id": "2b71f792",
   "metadata": {},
   "source": [
    "### Now pre-final part:"
   ]
  },
  {
   "cell_type": "markdown",
   "id": "62e12886",
   "metadata": {},
   "source": [
    "#### Find group mean"
   ]
  },
  {
   "cell_type": "code",
   "execution_count": 197,
   "id": "71191c4f",
   "metadata": {},
   "outputs": [
    {
     "data": {
      "text/plain": [
       "26.088737201365188"
      ]
     },
     "execution_count": 197,
     "metadata": {},
     "output_type": "execute_result"
    }
   ],
   "source": [
    "sum_F/sum_hours\n"
   ]
  },
  {
   "cell_type": "code",
   "execution_count": 198,
   "id": "1127b3e2",
   "metadata": {},
   "outputs": [
    {
     "data": {
      "text/html": [
       "<div>\n",
       "<style scoped>\n",
       "    .dataframe tbody tr th:only-of-type {\n",
       "        vertical-align: middle;\n",
       "    }\n",
       "\n",
       "    .dataframe tbody tr th {\n",
       "        vertical-align: top;\n",
       "    }\n",
       "\n",
       "    .dataframe thead th {\n",
       "        text-align: right;\n",
       "    }\n",
       "</style>\n",
       "<table border=\"1\" class=\"dataframe\">\n",
       "  <thead>\n",
       "    <tr style=\"text-align: right;\">\n",
       "      <th></th>\n",
       "      <th>Age</th>\n",
       "      <th>Hours</th>\n",
       "      <th>Mean_Age</th>\n",
       "      <th>Mul_of_Hour_mean</th>\n",
       "    </tr>\n",
       "  </thead>\n",
       "  <tbody>\n",
       "    <tr>\n",
       "      <th>0</th>\n",
       "      <td>20-22</td>\n",
       "      <td>45.0</td>\n",
       "      <td>21</td>\n",
       "      <td>945.0</td>\n",
       "    </tr>\n",
       "    <tr>\n",
       "      <th>1</th>\n",
       "      <td>23-25</td>\n",
       "      <td>36.0</td>\n",
       "      <td>24</td>\n",
       "      <td>864.0</td>\n",
       "    </tr>\n",
       "    <tr>\n",
       "      <th>2</th>\n",
       "      <td>26-28</td>\n",
       "      <td>25.0</td>\n",
       "      <td>27</td>\n",
       "      <td>675.0</td>\n",
       "    </tr>\n",
       "    <tr>\n",
       "      <th>3</th>\n",
       "      <td>29-31</td>\n",
       "      <td>16.0</td>\n",
       "      <td>30</td>\n",
       "      <td>480.0</td>\n",
       "    </tr>\n",
       "    <tr>\n",
       "      <th>4</th>\n",
       "      <td>32-34</td>\n",
       "      <td>12.0</td>\n",
       "      <td>33</td>\n",
       "      <td>396.0</td>\n",
       "    </tr>\n",
       "    <tr>\n",
       "      <th>5</th>\n",
       "      <td>35-37</td>\n",
       "      <td>8.5</td>\n",
       "      <td>36</td>\n",
       "      <td>306.0</td>\n",
       "    </tr>\n",
       "    <tr>\n",
       "      <th>6</th>\n",
       "      <td>38-40</td>\n",
       "      <td>4.0</td>\n",
       "      <td>39</td>\n",
       "      <td>156.0</td>\n",
       "    </tr>\n",
       "  </tbody>\n",
       "</table>\n",
       "</div>"
      ],
      "text/plain": [
       "     Age  Hours  Mean_Age  Mul_of_Hour_mean\n",
       "0  20-22   45.0        21             945.0\n",
       "1  23-25   36.0        24             864.0\n",
       "2  26-28   25.0        27             675.0\n",
       "3  29-31   16.0        30             480.0\n",
       "4  32-34   12.0        33             396.0\n",
       "5  35-37    8.5        36             306.0\n",
       "6  38-40    4.0        39             156.0"
      ]
     },
     "execution_count": 198,
     "metadata": {},
     "output_type": "execute_result"
    }
   ],
   "source": [
    "# What we have in databse?\n",
    "Time_spent"
   ]
  },
  {
   "cell_type": "markdown",
   "id": "46c75bca",
   "metadata": {},
   "source": [
    "### So group avarage is 26-28, Finaly we can visualize that to see it better"
   ]
  },
  {
   "cell_type": "code",
   "execution_count": 199,
   "id": "9e345a1c",
   "metadata": {},
   "outputs": [
    {
     "data": {
      "text/plain": [
       "Text(0.5, 0, 'Age')"
      ]
     },
     "execution_count": 199,
     "metadata": {},
     "output_type": "execute_result"
    },
    {
     "data": {
      "image/png": "[encoded data removed]",
      "text/plain": [
       "<Figure size 432x288 with 1 Axes>"
      ]
     },
     "metadata": {
      "needs_background": "light"
     },
     "output_type": "display_data"
    }
   ],
   "source": [
    "import matplotlib.pyplot as plt\n",
    "\n",
    "# using our creativity \n",
    "color = ['darkgoldenrod','darkgoldenrod','bisque','darkgoldenrod','darkgoldenrod','darkgoldenrod','darkgoldenrod']\n",
    "\n",
    "plt.bar(Time_spent.Age, Time_spent['Hours'], color = color)\n",
    "plt.xticks(Time_spent.Age)\n",
    "plt.ylabel('Time spent on the phone in hours')\n",
    "plt.xlabel('Age')\n"
   ]
  },
  {
   "cell_type": "code",
   "execution_count": 200,
   "id": "870f8b33",
   "metadata": {},
   "outputs": [],
   "source": [
    "# so that's the end :)"
   ]
  },
  {
   "cell_type": "code",
   "execution_count": null,
   "id": "60c55da3",
   "metadata": {},
   "outputs": [],
   "source": []
  }
 ],
 "metadata": {
  "kernelspec": {
   "display_name": "Python 3 (ipykernel)",
   "language": "python",
   "name": "python3"
  },
  "language_info": {
   "codemirror_mode": {
    "name": "ipython",
    "version": 3
   },
   "file_extension": ".py",
   "mimetype": "text/x-python",
   "name": "python",
   "nbconvert_exporter": "python",
   "pygments_lexer": "ipython3",
   "version": "3.9.12"
  }
 },
 "nbformat": 4,
 "nbformat_minor": 5
}
