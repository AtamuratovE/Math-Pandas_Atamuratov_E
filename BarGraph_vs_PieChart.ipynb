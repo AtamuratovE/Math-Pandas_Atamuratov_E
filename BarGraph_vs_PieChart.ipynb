{
 "cells": [
  {
   "cell_type": "markdown",
   "id": "77ffbb5b",
   "metadata": {},
   "source": [
    "### Example for Bar Graph"
   ]
  },
  {
   "cell_type": "code",
   "execution_count": 2,
   "id": "66747a98",
   "metadata": {},
   "outputs": [],
   "source": [
    "#A bar graph is best used to represent categorical or discrete data, so here you can compare frequency or amount of different items"
   ]
  },
  {
   "cell_type": "code",
   "execution_count": 3,
   "id": "f3d8d8a1",
   "metadata": {},
   "outputs": [],
   "source": [
    "import pandas as pd\n",
    "import matplotlib.pyplot as plt\n",
    "import os"
   ]
  },
  {
   "cell_type": "code",
   "execution_count": 5,
   "id": "9557c1a8",
   "metadata": {},
   "outputs": [
    {
     "data": {
      "text/html": [
       "<div>\n",
       "<style scoped>\n",
       "    .dataframe tbody tr th:only-of-type {\n",
       "        vertical-align: middle;\n",
       "    }\n",
       "\n",
       "    .dataframe tbody tr th {\n",
       "        vertical-align: top;\n",
       "    }\n",
       "\n",
       "    .dataframe thead th {\n",
       "        text-align: right;\n",
       "    }\n",
       "</style>\n",
       "<table border=\"1\" class=\"dataframe\">\n",
       "  <thead>\n",
       "    <tr style=\"text-align: right;\">\n",
       "      <th></th>\n",
       "      <th>Week</th>\n",
       "      <th>apples</th>\n",
       "    </tr>\n",
       "  </thead>\n",
       "  <tbody>\n",
       "    <tr>\n",
       "      <th>0</th>\n",
       "      <td>Monday</td>\n",
       "      <td>5</td>\n",
       "    </tr>\n",
       "    <tr>\n",
       "      <th>1</th>\n",
       "      <td>Tuesday</td>\n",
       "      <td>6</td>\n",
       "    </tr>\n",
       "    <tr>\n",
       "      <th>2</th>\n",
       "      <td>Wednesday</td>\n",
       "      <td>7</td>\n",
       "    </tr>\n",
       "    <tr>\n",
       "      <th>3</th>\n",
       "      <td>Thursday</td>\n",
       "      <td>3</td>\n",
       "    </tr>\n",
       "    <tr>\n",
       "      <th>4</th>\n",
       "      <td>Friday</td>\n",
       "      <td>7</td>\n",
       "    </tr>\n",
       "    <tr>\n",
       "      <th>5</th>\n",
       "      <td>Saturday</td>\n",
       "      <td>9</td>\n",
       "    </tr>\n",
       "    <tr>\n",
       "      <th>6</th>\n",
       "      <td>Sunday</td>\n",
       "      <td>6</td>\n",
       "    </tr>\n",
       "  </tbody>\n",
       "</table>\n",
       "</div>"
      ],
      "text/plain": [
       "        Week  apples\n",
       "0     Monday       5\n",
       "1    Tuesday       6\n",
       "2  Wednesday       7\n",
       "3   Thursday       3\n",
       "4     Friday       7\n",
       "5   Saturday       9\n",
       "6     Sunday       6"
      ]
     },
     "execution_count": 5,
     "metadata": {},
     "output_type": "execute_result"
    }
   ],
   "source": [
    "# Below are fruits that delivered to shop every day in kg\n",
    "BarGraph = pd.DataFrame(\n",
    "\n",
    "    {\n",
    "        'Week':['Monday','Tuesday','Wednesday','Thursday','Friday','Saturday','Sunday'],\n",
    "        # here Week column represents diiferent categories of days\n",
    "        'apples':[5,6,7,3,7,9,6]\n",
    "        # apples column represents amount of that type how much were brought\n",
    "        \n",
    "    }\n",
    ")\n",
    "\n",
    "BarGraph"
   ]
  },
  {
   "cell_type": "code",
   "execution_count": 6,
   "id": "fa441713",
   "metadata": {},
   "outputs": [
    {
     "data": {
      "image/png": "[encoded data removed]",
      "text/plain": [
       "<Figure size 432x288 with 1 Axes>"
      ]
     },
     "metadata": {
      "needs_background": "light"
     },
     "output_type": "display_data"
    }
   ],
   "source": [
    "# Plot a bar graph \n",
    "color = ['teal', 'teal','teal','teal', 'teal','aqua','teal']\n",
    "BarGraph.plot.bar(x='Week', y='apples', rot=90, color = color)\n",
    "\n",
    "plt.title('the quantity of deliveries per day for a week')\n",
    "plt.xlabel('Week')\n",
    "plt.ylabel('amount')\n",
    "\n",
    "plt.show()"
   ]
  },
  {
   "cell_type": "code",
   "execution_count": null,
   "id": "87af5718",
   "metadata": {},
   "outputs": [],
   "source": []
  },
  {
   "cell_type": "markdown",
   "id": "d7ebf6ca",
   "metadata": {},
   "source": [
    "### Example #2"
   ]
  },
  {
   "cell_type": "code",
   "execution_count": 7,
   "id": "32f5d468",
   "metadata": {},
   "outputs": [],
   "source": [
    "# So here is an example of frequency"
   ]
  },
  {
   "cell_type": "code",
   "execution_count": 8,
   "id": "ef93cc47",
   "metadata": {},
   "outputs": [
    {
     "data": {
      "text/html": [
       "<div>\n",
       "<style scoped>\n",
       "    .dataframe tbody tr th:only-of-type {\n",
       "        vertical-align: middle;\n",
       "    }\n",
       "\n",
       "    .dataframe tbody tr th {\n",
       "        vertical-align: top;\n",
       "    }\n",
       "\n",
       "    .dataframe thead th {\n",
       "        text-align: right;\n",
       "    }\n",
       "</style>\n",
       "<table border=\"1\" class=\"dataframe\">\n",
       "  <thead>\n",
       "    <tr style=\"text-align: right;\">\n",
       "      <th></th>\n",
       "      <th>Countries</th>\n",
       "      <th>Rain_Fall</th>\n",
       "    </tr>\n",
       "  </thead>\n",
       "  <tbody>\n",
       "    <tr>\n",
       "      <th>0</th>\n",
       "      <td>United States</td>\n",
       "      <td>120</td>\n",
       "    </tr>\n",
       "    <tr>\n",
       "      <th>1</th>\n",
       "      <td>China</td>\n",
       "      <td>135</td>\n",
       "    </tr>\n",
       "    <tr>\n",
       "      <th>2</th>\n",
       "      <td>Russia</td>\n",
       "      <td>140</td>\n",
       "    </tr>\n",
       "    <tr>\n",
       "      <th>3</th>\n",
       "      <td>Germany</td>\n",
       "      <td>110</td>\n",
       "    </tr>\n",
       "    <tr>\n",
       "      <th>4</th>\n",
       "      <td>Japan</td>\n",
       "      <td>150</td>\n",
       "    </tr>\n",
       "  </tbody>\n",
       "</table>\n",
       "</div>"
      ],
      "text/plain": [
       "       Countries  Rain_Fall\n",
       "0  United States        120\n",
       "1          China        135\n",
       "2         Russia        140\n",
       "3        Germany        110\n",
       "4          Japan        150"
      ]
     },
     "execution_count": 8,
     "metadata": {},
     "output_type": "execute_result"
    }
   ],
   "source": [
    "Rainy_countries = pd.DataFrame (\n",
    "    {\n",
    "        'Countries':['United States','China','Russia','Germany','Japan'], # category\n",
    "        'Rain_Fall':[120,135,140,110,150] # frequency // number of day that rain falls in a year\n",
    "    }\n",
    ")\n",
    "Rainy_countries"
   ]
  },
  {
   "cell_type": "code",
   "execution_count": 9,
   "id": "50950ef0",
   "metadata": {},
   "outputs": [
    {
     "data": {
      "image/png": "[encoded data removed]",
      "text/plain": [
       "<Figure size 432x288 with 1 Axes>"
      ]
     },
     "metadata": {
      "needs_background": "light"
     },
     "output_type": "display_data"
    }
   ],
   "source": [
    "# Plot a bar graph \n",
    "color = ['seagreen', 'seagreen','seagreen', 'seagreen','springgreen']\n",
    "Rainy_countries.plot.bar(x='Countries', y='Rain_Fall', rot=90, color = color)\n",
    "\n",
    "plt.title('Rain falls in countrie a year')\n",
    "plt.xlabel('Name of countries')\n",
    "plt.ylabel('number of days')\n",
    "\n",
    "plt.show()"
   ]
  },
  {
   "cell_type": "code",
   "execution_count": null,
   "id": "9c227a60",
   "metadata": {},
   "outputs": [],
   "source": []
  },
  {
   "cell_type": "markdown",
   "id": "f00e2b7f",
   "metadata": {},
   "source": [
    "### Example for Pie chart"
   ]
  },
  {
   "cell_type": "code",
   "execution_count": 10,
   "id": "ccc68a97",
   "metadata": {},
   "outputs": [
    {
     "data": {
      "text/html": [
       "<div>\n",
       "<style scoped>\n",
       "    .dataframe tbody tr th:only-of-type {\n",
       "        vertical-align: middle;\n",
       "    }\n",
       "\n",
       "    .dataframe tbody tr th {\n",
       "        vertical-align: top;\n",
       "    }\n",
       "\n",
       "    .dataframe thead th {\n",
       "        text-align: right;\n",
       "    }\n",
       "</style>\n",
       "<table border=\"1\" class=\"dataframe\">\n",
       "  <thead>\n",
       "    <tr style=\"text-align: right;\">\n",
       "      <th></th>\n",
       "      <th>Countries</th>\n",
       "      <th>Population Size</th>\n",
       "    </tr>\n",
       "  </thead>\n",
       "  <tbody>\n",
       "    <tr>\n",
       "      <th>0</th>\n",
       "      <td>Uzbekistan</td>\n",
       "      <td>35</td>\n",
       "    </tr>\n",
       "    <tr>\n",
       "      <th>1</th>\n",
       "      <td>Brazil</td>\n",
       "      <td>213</td>\n",
       "    </tr>\n",
       "    <tr>\n",
       "      <th>2</th>\n",
       "      <td>Pakistan</td>\n",
       "      <td>225</td>\n",
       "    </tr>\n",
       "    <tr>\n",
       "      <th>3</th>\n",
       "      <td>Russia</td>\n",
       "      <td>146</td>\n",
       "    </tr>\n",
       "    <tr>\n",
       "      <th>4</th>\n",
       "      <td>Nigeria</td>\n",
       "      <td>211</td>\n",
       "    </tr>\n",
       "  </tbody>\n",
       "</table>\n",
       "</div>"
      ],
      "text/plain": [
       "    Countries  Population Size\n",
       "0  Uzbekistan               35\n",
       "1      Brazil              213\n",
       "2    Pakistan              225\n",
       "3      Russia              146\n",
       "4     Nigeria              211"
      ]
     },
     "execution_count": 10,
     "metadata": {},
     "output_type": "execute_result"
    }
   ],
   "source": [
    "Population_size = pd.DataFrame (\n",
    "    {\n",
    "        'Countries':['Uzbekistan','Brazil','Pakistan','Russia','Nigeria'],\n",
    "        'Population Size':[35,213,225,146,211]\n",
    "    }\n",
    ")\n",
    "\n",
    "Population_size"
   ]
  },
  {
   "cell_type": "code",
   "execution_count": 11,
   "id": "29dd0c2b",
   "metadata": {},
   "outputs": [
    {
     "data": {
      "text/plain": [
       "<Figure size 432x432 with 0 Axes>"
      ]
     },
     "metadata": {},
     "output_type": "display_data"
    },
    {
     "data": {
      "image/png": "[encoded data removed]",
      "text/plain": [
       "<Figure size 432x288 with 1 Axes>"
      ]
     },
     "metadata": {},
     "output_type": "display_data"
    }
   ],
   "source": [
    "# visualizing\n",
    "\n",
    "# plot a pie chart of the fruit counts\n",
    "plt.figure(figsize=(6,6))\n",
    "Population_size.plot.pie(y='Population Size', labels=Population_size['Countries'], autopct='%1.1f%%', startangle=90,)\n",
    "plt.axis('equal')\n",
    "plt.title('Relative Population Size in mln',)\n",
    "plt.show()\n"
   ]
  },
  {
   "cell_type": "code",
   "execution_count": null,
   "id": "3d877eb8",
   "metadata": {},
   "outputs": [],
   "source": [
    "# End of th eproject Bar Graph vs Pie Chart :)"
   ]
  }
 ],
 "metadata": {
  "kernelspec": {
   "display_name": "Python 3 (ipykernel)",
   "language": "python",
   "name": "python3"
  },
  "language_info": {
   "codemirror_mode": {
    "name": "ipython",
    "version": 3
   },
   "file_extension": ".py",
   "mimetype": "text/x-python",
   "name": "python",
   "nbconvert_exporter": "python",
   "pygments_lexer": "ipython3",
   "version": "3.9.12"
  }
 },
 "nbformat": 4,
 "nbformat_minor": 5
}
