{
 "cells": [
  {
   "cell_type": "markdown",
   "id": "8d766a7a",
   "metadata": {},
   "source": [
    "## Here we find if matrix is orthogonal or not\n",
    "\n",
    "### It requires 3 steps from us \n",
    "\n",
    "- 1. Transposing the Matrix\n",
    "\n",
    "- 2. Inversing the Matrix\n",
    "\n",
    "- 3. Cheking if Transpose of matrix is equal to inverse of matrix"
   ]
  },
  {
   "cell_type": "code",
   "execution_count": 1,
   "id": "a1d5ba6d",
   "metadata": {},
   "outputs": [],
   "source": [
    "import numpy as np"
   ]
  },
  {
   "cell_type": "markdown",
   "id": "672818a5",
   "metadata": {},
   "source": [
    "Starting from easy one :)"
   ]
  },
  {
   "cell_type": "code",
   "execution_count": 2,
   "id": "f4e2b8f0",
   "metadata": {},
   "outputs": [
    {
     "data": {
      "text/plain": [
       "array([[1, 0, 0],\n",
       "       [0, 1, 0],\n",
       "       [0, 0, 1]])"
      ]
     },
     "execution_count": 2,
     "metadata": {},
     "output_type": "execute_result"
    }
   ],
   "source": [
    "A = np.array([[1, 0, 0],[0, 1, 0],[0, 0, 1]])\n",
    "A"
   ]
  },
  {
   "cell_type": "code",
   "execution_count": 3,
   "id": "d9f4f593",
   "metadata": {},
   "outputs": [
    {
     "data": {
      "text/plain": [
       "array([[1, 0, 0],\n",
       "       [0, 1, 0],\n",
       "       [0, 0, 1]])"
      ]
     },
     "execution_count": 3,
     "metadata": {},
     "output_type": "execute_result"
    }
   ],
   "source": [
    "Atra = np.transpose(A)\n",
    "Atra"
   ]
  },
  {
   "cell_type": "code",
   "execution_count": 4,
   "id": "4a579225",
   "metadata": {},
   "outputs": [
    {
     "data": {
      "text/plain": [
       "array([[1., 0., 0.],\n",
       "       [0., 1., 0.],\n",
       "       [0., 0., 1.]])"
      ]
     },
     "execution_count": 4,
     "metadata": {},
     "output_type": "execute_result"
    }
   ],
   "source": [
    "Ainv = np.linalg.inv(A)\n",
    "Ainv"
   ]
  },
  {
   "cell_type": "code",
   "execution_count": 5,
   "id": "9da24e85",
   "metadata": {},
   "outputs": [
    {
     "data": {
      "text/plain": [
       "True"
      ]
     },
     "execution_count": 5,
     "metadata": {},
     "output_type": "execute_result"
    }
   ],
   "source": [
    "is_orthoganal = np.array_equal(Atra, Ainv)\n",
    "is_orthoganal"
   ]
  },
  {
   "cell_type": "markdown",
   "id": "8a3b5674",
   "metadata": {},
   "source": [
    "Yes indeed it is orthoganal, now lwt's move to bit difficult one"
   ]
  },
  {
   "cell_type": "code",
   "execution_count": 6,
   "id": "f2cb7518",
   "metadata": {},
   "outputs": [
    {
     "data": {
      "text/plain": [
       "array([[ 0.66666667,  0.33333333,  0.66666667],\n",
       "       [-0.66666667,  0.66666667,  0.33333333],\n",
       "       [ 0.33333333,  0.66666667, -0.66666667]])"
      ]
     },
     "execution_count": 6,
     "metadata": {},
     "output_type": "execute_result"
    }
   ],
   "source": [
    "K = np.array([[2/3, 1/3, 2/3], [-2/3, 2/3, 1/3], [1/3, 2/3, -2/3]])\n",
    "K"
   ]
  },
  {
   "cell_type": "code",
   "execution_count": 7,
   "id": "b2e117b3",
   "metadata": {},
   "outputs": [
    {
     "data": {
      "text/plain": [
       "array([[ 0.66666667, -0.66666667,  0.33333333],\n",
       "       [ 0.33333333,  0.66666667,  0.66666667],\n",
       "       [ 0.66666667,  0.33333333, -0.66666667]])"
      ]
     },
     "execution_count": 7,
     "metadata": {},
     "output_type": "execute_result"
    }
   ],
   "source": [
    "Ktra = np.transpose(K)\n",
    "Ktra"
   ]
  },
  {
   "cell_type": "code",
   "execution_count": 8,
   "id": "ce4bb38a",
   "metadata": {},
   "outputs": [
    {
     "data": {
      "text/plain": [
       "array([[ 0.66666667, -0.66666667,  0.33333333],\n",
       "       [ 0.33333333,  0.66666667,  0.66666667],\n",
       "       [ 0.66666667,  0.33333333, -0.66666667]])"
      ]
     },
     "execution_count": 8,
     "metadata": {},
     "output_type": "execute_result"
    }
   ],
   "source": [
    "Kinv = np.linalg.inv(K)\n",
    "Kinv"
   ]
  },
  {
   "cell_type": "code",
   "execution_count": 9,
   "id": "60ce6e42",
   "metadata": {},
   "outputs": [
    {
     "data": {
      "text/plain": [
       "False"
      ]
     },
     "execution_count": 9,
     "metadata": {},
     "output_type": "execute_result"
    }
   ],
   "source": [
    "is_orthoganal = np.array_equal(Kinv, Ktra)\n",
    "is_orthoganal"
   ]
  },
  {
   "cell_type": "markdown",
   "id": "5afa90db",
   "metadata": {},
   "source": [
    ":\\ I did not quite understood why it's saying wrong but the arrays are literally same so it should be orthogonal matrix."
   ]
  },
  {
   "cell_type": "code",
   "execution_count": null,
   "id": "c564b21c",
   "metadata": {},
   "outputs": [],
   "source": []
  },
  {
   "cell_type": "code",
   "execution_count": null,
   "id": "01231195",
   "metadata": {},
   "outputs": [],
   "source": []
  }
 ],
 "metadata": {
  "kernelspec": {
   "display_name": "Python 3 (ipykernel)",
   "language": "python",
   "name": "python3"
  },
  "language_info": {
   "codemirror_mode": {
    "name": "ipython",
    "version": 3
   },
   "file_extension": ".py",
   "mimetype": "text/x-python",
   "name": "python",
   "nbconvert_exporter": "python",
   "pygments_lexer": "ipython3",
   "version": "3.10.6"
  }
 },
 "nbformat": 4,
 "nbformat_minor": 5
}
