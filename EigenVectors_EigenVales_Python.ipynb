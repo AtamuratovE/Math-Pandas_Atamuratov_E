{
 "cells": [
  {
   "cell_type": "markdown",
   "id": "748fe51e",
   "metadata": {},
   "source": [
    "### What Eigen vector? How to identify?\n",
    "First of all intersting info about Eigenvectors and IEigenvalues is the it's a vales that does not change when you change matrix, you can see example to this when we rotate images in our phone. Image is actualy a grid full of rgb pixels so when we rotate our image the vector that does not change is an Eigenvector, and the value of that vector is an Iegenvalue. \n",
    "\n",
    " ### And Trick with Eigenvectors ☻\n",
    " First of all non-square matrices do not have eigenvectors **☹**\n",
    "\n",
    "Eigenvectors offer a world of exciting possibilities and applications. While I'll only illustrate one here, there are plenty more fun things we can do with them\n",
    " \n",
    " \n",
    " if eigenvalue is negative that means that vector is opposite to what it was before. and value shows how much did it scale or shrink.\n",
    " \n",
    " matrix is : [1, 2]\n",
    "             [3, 4]      \n",
    "             here [1,2] is vector1 and [3, 4] is vector2\n",
    "             \n",
    "  here [-0.82456484, 0.56576746] eigenvector1,   [ -0.41597356, -0.90937671] eigenvector2\n",
    "  and -0.37228132 eigenvalue1 for eigenvector1 and it means that vector has changed direction to negative and changed value by 0.3 wich means decreased 3 times. same with eigenvector2 but eigenvector2 scaled by 5 times.  \n",
    "  \n",
    "  Trick is Av=λv Which is really interesting to me thta means Matrix A multiplied by Eigenvector equals to Eigenvalue multiplied by Eigenvector.\n",
    "  \n",
    "  \n",
    "  \n",
    "### Important to know\n",
    "\n",
    "   Matrix A's determinant of this matrix must be zero becasu we can't take matrix that has inverse of it, otherwise      X-hat meaning vector of that matrix will be equal to zero matrix.\n",
    "   "
   ]
  },
  {
   "cell_type": "code",
   "execution_count": 49,
   "id": "15a882ec",
   "metadata": {},
   "outputs": [
    {
     "data": {
      "text/plain": [
       "array([[1, 2],\n",
       "       [3, 4]])"
      ]
     },
     "execution_count": 49,
     "metadata": {},
     "output_type": "execute_result"
    }
   ],
   "source": [
    "import numpy as np\n",
    "import matplotlib.pyplot as plt\n",
    "A = np.array([[1, 2], [3, 4]])\n",
    "A"
   ]
  },
  {
   "cell_type": "code",
   "execution_count": 50,
   "id": "178f92d5",
   "metadata": {},
   "outputs": [],
   "source": [
    "def plot_vectors(vectors, colors):\n",
    "    \"\"\"\n",
    "    Plot one or more vectors in a 2D plane, specifying a color for each. \n",
    "\n",
    "    Arguments\n",
    "    ---------\n",
    "    vectors: list of lists or of arrays\n",
    "        Coordinates of the vectors to plot. For example, [[1, 3], [2, 2]] \n",
    "        contains two vectors to plot, [1, 3] and [2, 2].\n",
    "    colors: list\n",
    "        Colors of the vectors. For instance: ['red', 'blue'] will display the\n",
    "        first vector in red and the second in blue.\n",
    "        \n",
    "    Example\n",
    "    -------\n",
    "    plot_vectors([[1, 3], [2, 2]], ['red', 'blue'])\n",
    "    plt.xlim(-1, 4)\n",
    "    plt.ylim(-1, 4)\n",
    "    \"\"\"\n",
    "    plt.figure()\n",
    "    plt.axvline(x=0, color='lightgray')\n",
    "    plt.axhline(y=0, color='lightgray')\n",
    "\n",
    "    for i in range(len(vectors)):\n",
    "        x = np.concatenate([[0,0],vectors[i]])\n",
    "        plt.quiver([x[0]], [x[1]], [x[2]], [x[3]],\n",
    "                   angles='xy', scale_units='xy', scale=1, color=colors[i],)\n",
    "        \n",
    "        \n",
    "        # source : https://colab.research.google.com/github/jonkrohn/ML-foundations/blob/master/notebooks/2-linear-algebra-ii.ipynb#scrollTo=fmyWW7Xvj3Wu"
   ]
  },
  {
   "cell_type": "code",
   "execution_count": 51,
   "id": "1d11287a",
   "metadata": {},
   "outputs": [],
   "source": [
    "Eival, Eivec = np.linalg.eig(A)"
   ]
  },
  {
   "cell_type": "code",
   "execution_count": 52,
   "id": "24345e23",
   "metadata": {},
   "outputs": [
    {
     "data": {
      "text/plain": [
       "array([[-0.82456484, -0.41597356],\n",
       "       [ 0.56576746, -0.90937671]])"
      ]
     },
     "execution_count": 52,
     "metadata": {},
     "output_type": "execute_result"
    }
   ],
   "source": [
    "Eivec # here each column is a separe eigen vector"
   ]
  },
  {
   "cell_type": "code",
   "execution_count": 53,
   "id": "271b7687",
   "metadata": {},
   "outputs": [
    {
     "data": {
      "text/plain": [
       "array([-0.37228132,  5.37228132])"
      ]
     },
     "execution_count": 53,
     "metadata": {},
     "output_type": "execute_result"
    }
   ],
   "source": [
    "Eival"
   ]
  },
  {
   "cell_type": "markdown",
   "id": "f69f3162",
   "metadata": {},
   "source": [
    "Here we take Eigenvectors"
   ]
  },
  {
   "cell_type": "code",
   "execution_count": 54,
   "id": "9a83887c",
   "metadata": {},
   "outputs": [
    {
     "data": {
      "text/plain": [
       "array([-0.82456484,  0.56576746])"
      ]
     },
     "execution_count": 54,
     "metadata": {},
     "output_type": "execute_result"
    }
   ],
   "source": [
    "v1 = Eivec[:,0] \n",
    "v1"
   ]
  },
  {
   "cell_type": "code",
   "execution_count": 55,
   "id": "570e9906",
   "metadata": {},
   "outputs": [
    {
     "data": {
      "text/plain": [
       "array([-0.41597356, -0.90937671])"
      ]
     },
     "execution_count": 55,
     "metadata": {},
     "output_type": "execute_result"
    }
   ],
   "source": [
    "v2 = Eivec[:,1] \n",
    "v2"
   ]
  },
  {
   "cell_type": "markdown",
   "id": "b913e48f",
   "metadata": {},
   "source": [
    "And Eigenvalues"
   ]
  },
  {
   "cell_type": "code",
   "execution_count": 56,
   "id": "d571ff08",
   "metadata": {},
   "outputs": [
    {
     "data": {
      "text/plain": [
       "-0.3722813232690143"
      ]
     },
     "execution_count": 56,
     "metadata": {},
     "output_type": "execute_result"
    }
   ],
   "source": [
    "val1 = Eival[0]\n",
    "val1"
   ]
  },
  {
   "cell_type": "code",
   "execution_count": 57,
   "id": "446008c8",
   "metadata": {},
   "outputs": [
    {
     "data": {
      "text/plain": [
       "5.372281323269014"
      ]
     },
     "execution_count": 57,
     "metadata": {},
     "output_type": "execute_result"
    }
   ],
   "source": [
    "val2 = Eival[1]\n",
    "val2"
   ]
  },
  {
   "cell_type": "markdown",
   "id": "a29c532a",
   "metadata": {},
   "source": [
    "Let's check if Av=λv this is really the case"
   ]
  },
  {
   "cell_type": "code",
   "execution_count": 58,
   "id": "cb0a1db5",
   "metadata": {},
   "outputs": [
    {
     "data": {
      "text/plain": [
       "array([ 0.30697009, -0.21062466])"
      ]
     },
     "execution_count": 58,
     "metadata": {},
     "output_type": "execute_result"
    }
   ],
   "source": [
    "Av1 = np.dot(A, v1)\n",
    "Av1"
   ]
  },
  {
   "cell_type": "code",
   "execution_count": 59,
   "id": "684fc72f",
   "metadata": {},
   "outputs": [
    {
     "data": {
      "text/plain": [
       "array([ 0.30697009, -0.21062466])"
      ]
     },
     "execution_count": 59,
     "metadata": {},
     "output_type": "execute_result"
    }
   ],
   "source": [
    "val1 * v1"
   ]
  },
  {
   "cell_type": "markdown",
   "id": "0733ebda",
   "metadata": {},
   "source": [
    "Yeah it's true it is really the case. values are really the same."
   ]
  },
  {
   "cell_type": "code",
   "execution_count": 60,
   "id": "6b7569d7",
   "metadata": {},
   "outputs": [
    {
     "data": {
      "text/plain": [
       "array([-2.23472698, -4.88542751])"
      ]
     },
     "execution_count": 60,
     "metadata": {},
     "output_type": "execute_result"
    }
   ],
   "source": [
    "Av2 = np.dot(A, v2)\n",
    "Av2"
   ]
  },
  {
   "cell_type": "code",
   "execution_count": 61,
   "id": "5658c6e2",
   "metadata": {},
   "outputs": [
    {
     "data": {
      "text/plain": [
       "array([-2.23472698, -4.88542751])"
      ]
     },
     "execution_count": 61,
     "metadata": {},
     "output_type": "execute_result"
    }
   ],
   "source": [
    "val2 * v2"
   ]
  },
  {
   "cell_type": "markdown",
   "id": "4e00cbca",
   "metadata": {},
   "source": [
    "Here is also the same ㋛\n",
    "\n",
    "### Let's plot"
   ]
  },
  {
   "cell_type": "code",
   "execution_count": 65,
   "id": "742ab542",
   "metadata": {},
   "outputs": [
    {
     "data": {
      "image/png": "[encoded data removed]",
      "text/plain": [
       "<Figure size 640x480 with 1 Axes>"
      ]
     },
     "metadata": {},
     "output_type": "display_data"
    }
   ],
   "source": [
    "\n",
    "plot_vectors([Av1, v1, Av2, v2 ], ['blue', 'lightblue', 'green', 'lightgreen'])\n",
    "plt.xlim(-5, 4)\n",
    "_ = plt.ylim(-5, 2)"
   ]
  },
  {
   "cell_type": "markdown",
   "id": "ba571342",
   "metadata": {},
   "source": [
    "So here we can see that vector 2 has increased by 5 times."
   ]
  },
  {
   "cell_type": "code",
   "execution_count": 75,
   "id": "ac23d7b7",
   "metadata": {},
   "outputs": [
    {
     "data": {
      "image/png": "[encoded data removed]",
      "text/plain": [
       "<Figure size 640x480 with 1 Axes>"
      ]
     },
     "metadata": {},
     "output_type": "display_data"
    }
   ],
   "source": [
    "plot_vectors([Av1, v1], ['blue', 'lightblue'])\n",
    "plt.xlim(-1, 0.75)\n",
    "_ = plt.ylim(-1, 1)"
   ]
  },
  {
   "cell_type": "markdown",
   "id": "5db57122",
   "metadata": {},
   "source": [
    "So here light blue is original vector and dark blue is eigenvector for vector1"
   ]
  },
  {
   "cell_type": "code",
   "execution_count": 82,
   "id": "44c738d5",
   "metadata": {},
   "outputs": [
    {
     "data": {
      "image/png": "[encoded data removed]",
      "text/plain": [
       "<Figure size 640x480 with 1 Axes>"
      ]
     },
     "metadata": {},
     "output_type": "display_data"
    }
   ],
   "source": [
    "plot_vectors([Av2, v2], ['green', 'lightgreen'])\n",
    "plt.xlim(-3, 1)\n",
    "_ = plt.ylim(-7, 1)"
   ]
  },
  {
   "cell_type": "markdown",
   "id": "62218741",
   "metadata": {},
   "source": [
    "So here light green is original vector and dark green is eigenvector for vector2"
   ]
  },
  {
   "cell_type": "code",
   "execution_count": null,
   "id": "7601d942",
   "metadata": {},
   "outputs": [],
   "source": []
  },
  {
   "cell_type": "code",
   "execution_count": null,
   "id": "32c0de19",
   "metadata": {},
   "outputs": [],
   "source": []
  },
  {
   "cell_type": "markdown",
   "id": "a71ae767",
   "metadata": {},
   "source": [
    "Finding Iegen Vectors by Hand (In this case by Python :))"
   ]
  },
  {
   "cell_type": "code",
   "execution_count": 83,
   "id": "11085b8c",
   "metadata": {},
   "outputs": [
    {
     "data": {
      "text/plain": [
       "array([[2, 3],\n",
       "       [4, 5]])"
      ]
     },
     "execution_count": 83,
     "metadata": {},
     "output_type": "execute_result"
    }
   ],
   "source": [
    "A = np.array([[2, 3], [4, 5]])\n",
    "A"
   ]
  },
  {
   "cell_type": "markdown",
   "id": "7c8d1f49",
   "metadata": {},
   "source": [
    "Solving for eigenvalues"
   ]
  },
  {
   "cell_type": "code",
   "execution_count": 85,
   "id": "58b02a42",
   "metadata": {},
   "outputs": [],
   "source": [
    "# A = [1 1]\n",
    "#     [4 1]\n",
    "\n",
    "# A - λI = [1 1] - λ[1 0]  -- A - λI = [1 1] - [λ 0]\n",
    "#          [4 1]    [0 1]  --          [4 1]   [0 λ]\n",
    "\n",
    "# A - λI = [1 1] - [λ 0] = [1-λ 1]\n",
    "#          [4 1]   [0 λ]   [4 1-λ]\n",
    "\n",
    "# |1-λ 1| = 0  (1-λ)(1-λ) - (4)(1) = 0\n",
    "# |4 1-λ|        1-2λ+λ^2-4 = 0\n",
    "#                 λ^2-2λ-3 = 0 - This is Characteristic equation\n",
    "#                   (λ-3)(λ+1) = 0\n",
    "#                   λ = 3, λ = -1 this are the eigenvalues\n",
    "\n",
    "\n",
    "\n",
    "\n",
    "\n",
    "\n",
    "\n",
    "# source to video (how to solve eigen_val-vec): https://www.youtube.com/watch?v=TQvxWaQnrqI"
   ]
  },
  {
   "cell_type": "markdown",
   "id": "cc3e54f5",
   "metadata": {},
   "source": [
    "Solving for eigenvectors"
   ]
  },
  {
   "cell_type": "code",
   "execution_count": null,
   "id": "9c1ebe06",
   "metadata": {},
   "outputs": [],
   "source": [
    "# (A - λI)x-hat = 0-hat\n",
    "\n",
    "# A = [1 1] λ = 3    (A-λI)x = 0\n",
    "#     [4 1] λ = -1\n",
    "\n",
    "# A - 3I = [1 1] - [3 0] = [-2 1]          [-2 1]\n",
    "#          [4 1]   [0 3]   [4 -2] R2 + 2R1 [ 0 0]\n",
    "\n",
    "# [-2 1][X1] = [0]   -2X1 + X2 = 0 \n",
    "# [ 0 0][X2]   [0]      X2 = 2X1 | X2 = 2\n",
    "\n",
    "# X-hat = [1] = [ c]  | X2-hat = [ 2]\n",
    "#         [2]   [2c]  |          [-2c]\n",
    "\n",
    "#       "
   ]
  }
 ],
 "metadata": {
  "kernelspec": {
   "display_name": "Python 3 (ipykernel)",
   "language": "python",
   "name": "python3"
  },
  "language_info": {
   "codemirror_mode": {
    "name": "ipython",
    "version": 3
   },
   "file_extension": ".py",
   "mimetype": "text/x-python",
   "name": "python",
   "nbconvert_exporter": "python",
   "pygments_lexer": "ipython3",
   "version": "3.10.6"
  }
 },
 "nbformat": 4,
 "nbformat_minor": 5
}
