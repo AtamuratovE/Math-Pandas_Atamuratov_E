{
 "cells": [
  {
   "cell_type": "markdown",
   "id": "6fcc92f8",
   "metadata": {},
   "source": [
    "There is cool things that can be done with matrix inverse like finding unknowns it's useful when finding 1000 of unkowns instead of using system of equations because it's easier, cheaper, ..."
   ]
  },
  {
   "cell_type": "markdown",
   "id": "fc1f99e5",
   "metadata": {},
   "source": [
    "**Python code to find inverse of Matrix**"
   ]
  },
  {
   "cell_type": "code",
   "execution_count": 24,
   "id": "8903fdcb",
   "metadata": {},
   "outputs": [],
   "source": [
    "# [y1] = [x1, x2]* [w1]\n",
    "# [y2] = [x1, x2]* [w2]\n",
    "\n",
    "# Here y1 and y2 are outputs like weather, price of home, price of car. \n",
    "# x1, x2 are features that make the price like for car : speed, how much fuel does it take? for certain km, max speed ...\n",
    "# w1, w2 are weights they are such numbers if we know them we can predict what nex time the outcome, because \n",
    "# we usually have y and x wieght is a number that mekes relationship between them \n",
    "\n"
   ]
  },
  {
   "cell_type": "code",
   "execution_count": 25,
   "id": "94da7848",
   "metadata": {},
   "outputs": [],
   "source": [
    "import numpy as np"
   ]
  },
  {
   "cell_type": "code",
   "execution_count": 26,
   "id": "e7408152",
   "metadata": {},
   "outputs": [
    {
     "data": {
      "text/plain": [
       "array([[ 2,  1],\n",
       "       [-5,  3]])"
      ]
     },
     "execution_count": 26,
     "metadata": {},
     "output_type": "execute_result"
    }
   ],
   "source": [
    "X = np.array([[2,1],[-5,3]])\n",
    "X"
   ]
  },
  {
   "cell_type": "code",
   "execution_count": 27,
   "id": "604e2598",
   "metadata": {},
   "outputs": [
    {
     "data": {
      "text/plain": [
       "array([[ 0.27272727, -0.09090909],\n",
       "       [ 0.45454545,  0.18181818]])"
      ]
     },
     "execution_count": 27,
     "metadata": {},
     "output_type": "execute_result"
    }
   ],
   "source": [
    "X_inv = np.linalg.inv(Unknown)\n",
    "X_inv"
   ]
  },
  {
   "cell_type": "code",
   "execution_count": 28,
   "id": "16121065",
   "metadata": {},
   "outputs": [
    {
     "data": {
      "text/plain": [
       "array([ 4, -7])"
      ]
     },
     "execution_count": 28,
     "metadata": {},
     "output_type": "execute_result"
    }
   ],
   "source": [
    "y = np.array([4, -7])\n",
    "y"
   ]
  },
  {
   "cell_type": "code",
   "execution_count": 29,
   "id": "36e2e71f",
   "metadata": {},
   "outputs": [
    {
     "data": {
      "text/plain": [
       "array([1.72727273, 0.54545455])"
      ]
     },
     "execution_count": 29,
     "metadata": {},
     "output_type": "execute_result"
    }
   ],
   "source": [
    "w = np.dot(X_inv, y)\n",
    "w"
   ]
  },
  {
   "cell_type": "markdown",
   "id": "62fed91b",
   "metadata": {},
   "source": [
    "Here weights are 1.72 & 0.54"
   ]
  },
  {
   "cell_type": "markdown",
   "id": "7737cd7f",
   "metadata": {},
   "source": [
    "### Now let's do something more fun "
   ]
  },
  {
   "cell_type": "markdown",
   "id": "e3c04cbf",
   "metadata": {},
   "source": [
    "#### I found Real estate prices in Tashkent, Uzbekistan which I did not think could find 😎 \t"
   ]
  },
  {
   "attachments": {},
   "cell_type": "markdown",
   "id": "07700861",
   "metadata": {},
   "source": [
    "So there is a lot of info but I'm taking just few of them, here is what I'm taking\n",
    "\n",
    "*I'm only taking district **Chilonzor** so it will be more accure calculation.*\n",
    "*And I only took with **rooms 2, 3** as less difference as accureate it will be 🙃*\n",
    "\n",
    "\n",
    "\n",
    "\n",
    "\n",
    "I did not add latitude and longitude because they were very much the same."
   ]
  },
  {
   "cell_type": "code",
   "execution_count": 30,
   "id": "b0c16201",
   "metadata": {},
   "outputs": [],
   "source": [
    "# | district  | rooms | size| level| max_levels | price \n",
    "# | Chilonzor |   2   | 42  |   4  |     4      | 37000 \n",
    "# | Chilonzor |   2   | 51  |   2  |     4      | 22200 \n",
    "# | Chilonzor |   2   | 51  |   2  |     4      | 24200 || we can't take it otherwise it will be singular matrix :/\n",
    "# | Chilonzor |   2   | 64  |   3  |     4      | 56500 \n",
    "# | Chilonzor |   2   | 42  |   2  |     4      | 34500 || can't take this too it will not be square 4X5 \n",
    "# | Chilonzor |   3   | 70  |   5  |     5      | 40000 "
   ]
  },
  {
   "cell_type": "markdown",
   "id": "d1ff2818",
   "metadata": {},
   "source": [
    "From above we can tell something like size matters look 4th one 56500 size 64, but 2nd and third are big at size though cheap so they must be old (size = 51, price = 22200, 24200) other two are nearly same only difference must be location. I think there is no diiference because of building look all of them are max 4 levels so they all should be build within same 20 - 30 years so maybe it's not about oldness huh :/ so hyposethis is wrong **😜** location plays bigger role. and last one really proves that location does matter a lot. Also there is some things we can't add but it also contributes a lot to price which is household appliances."
   ]
  },
  {
   "cell_type": "markdown",
   "id": "8fb3c2f9",
   "metadata": {},
   "source": [
    "#### So start sorting out 🙂"
   ]
  },
  {
   "cell_type": "code",
   "execution_count": 45,
   "id": "30268fca",
   "metadata": {},
   "outputs": [],
   "source": [
    "# Price  = y\n",
    "y = np.array([37000, 22200, 40000, 56500])"
   ]
  },
  {
   "cell_type": "code",
   "execution_count": 46,
   "id": "8f003084",
   "metadata": {},
   "outputs": [],
   "source": [
    "# Matrix = everything else \n",
    "X = np.array([[2, 42, 4, 4], [2, 51, 2, 4], [3, 70, 5, 5], [2, 64, 3, 4]])\n",
    "\n",
    "# everything is ready start the magic "
   ]
  },
  {
   "cell_type": "markdown",
   "id": "b5a390af",
   "metadata": {},
   "source": [
    "#### Our job is to find weights\n",
    "\n",
    "\n",
    "*1. First find Xinv - x inverse*"
   ]
  },
  {
   "cell_type": "code",
   "execution_count": 47,
   "id": "800962a7",
   "metadata": {},
   "outputs": [
    {
     "data": {
      "text/plain": [
       "array([[-1.50000000e+00,  1.00000000e+00,  2.00000000e+00,\n",
       "        -2.00000000e+00],\n",
       "       [-2.85714286e-02, -2.85714286e-02,  3.84307970e-18,\n",
       "         5.71428571e-02],\n",
       "       [ 3.71428571e-01, -6.28571429e-01,  8.88178420e-17,\n",
       "         2.57142857e-01],\n",
       "       [ 9.28571429e-01,  4.28571429e-01, -1.00000000e+00,\n",
       "         1.42857143e-01]])"
      ]
     },
     "execution_count": 47,
     "metadata": {},
     "output_type": "execute_result"
    }
   ],
   "source": [
    "import numpy as np\n",
    "Xinv = np.linalg.inv(X)\n",
    "Xinv\n",
    "\n",
    "# so X inverse is ready"
   ]
  },
  {
   "cell_type": "code",
   "execution_count": 49,
   "id": "7a6ef56d",
   "metadata": {},
   "outputs": [
    {
     "data": {
      "text/plain": [
       "array([-66300.        ,   1537.14285714,  14317.14285714,  11942.85714286])"
      ]
     },
     "execution_count": 49,
     "metadata": {},
     "output_type": "execute_result"
    }
   ],
   "source": [
    "w = np.dot(Xinv, y)\n",
    "w"
   ]
  },
  {
   "cell_type": "markdown",
   "id": "30164255",
   "metadata": {},
   "source": [
    "## Here are the magical numbers that we needed. 😄😄"
   ]
  },
  {
   "cell_type": "markdown",
   "id": "9e9a3ed5",
   "metadata": {},
   "source": [
    "### now If we have X we should be able to predict y 😉 let's check."
   ]
  },
  {
   "cell_type": "markdown",
   "id": "9b467da0",
   "metadata": {},
   "source": [
    "#### here is another 4 houses from Chilanzar\n",
    "\n",
    "I actualy dont expect more than 50% accuracy let's see"
   ]
  },
  {
   "cell_type": "code",
   "execution_count": 50,
   "id": "cae0eac0",
   "metadata": {},
   "outputs": [],
   "source": [
    "# | district  | rooms | size| level| max_levels | price \n",
    "# | Chilonzor |   3   | 65  |   1  |     4      | 49500 \n",
    "# | Chilonzor |   3   | 70  |   3  |     5      | 55000 \n",
    "# | Chilonzor |   2   | 51  |   2  |     4      | 21200 \n",
    "# | Chilonzor |   2   | 45  |   2  |     4      | 56500 \n"
   ]
  },
  {
   "cell_type": "code",
   "execution_count": 54,
   "id": "4d161aef",
   "metadata": {},
   "outputs": [
    {
     "data": {
      "text/plain": [
       "array([[ 3, 65,  1,  4],\n",
       "       [ 3, 70,  3,  5],\n",
       "       [ 2, 51,  2,  4],\n",
       "       [ 2, 45,  2,  4]])"
      ]
     },
     "execution_count": 54,
     "metadata": {},
     "output_type": "execute_result"
    }
   ],
   "source": [
    "# Matrix = everything else \n",
    "X = np.array([[3, 65, 1, 4], [3, 70, 3, 5], [2, 51, 2, 4], [2, 45, 2, 4]])\n",
    "X"
   ]
  },
  {
   "cell_type": "code",
   "execution_count": 55,
   "id": "930d1d3a",
   "metadata": {},
   "outputs": [
    {
     "data": {
      "text/plain": [
       "array([-66300.        ,   1537.14285714,  14317.14285714,  11942.85714286])"
      ]
     },
     "execution_count": 55,
     "metadata": {},
     "output_type": "execute_result"
    }
   ],
   "source": [
    "w"
   ]
  },
  {
   "cell_type": "markdown",
   "id": "a82d6e21",
   "metadata": {},
   "source": [
    "#### Theoraticaly X * w = y | in real life ..."
   ]
  },
  {
   "cell_type": "code",
   "execution_count": 56,
   "id": "bb4c4ad0",
   "metadata": {},
   "outputs": [
    {
     "data": {
      "text/plain": [
       "array([-36897.14285714,  11365.71428571,  22200.        ,  12977.14285714])"
      ]
     },
     "execution_count": 56,
     "metadata": {},
     "output_type": "execute_result"
    }
   ],
   "source": [
    "np.dot(X, w) # So huh, let's see if  it's actually correct :)"
   ]
  },
  {
   "cell_type": "markdown",
   "id": "4050081f",
   "metadata": {},
   "source": [
    "Not even close\n",
    "\n",
    "Output should have been something close to :\n",
    "49500, 55000, 21200, 56500"
   ]
  },
  {
   "cell_type": "markdown",
   "id": "be2dd8bc",
   "metadata": {},
   "source": [
    "That's ok I think it's accuray about 20% or less bacuase there was really less data to train if there was like 100 houses it's accuracy might have been between 50 - 90 I think. "
   ]
  },
  {
   "cell_type": "markdown",
   "id": "286ab37f",
   "metadata": {},
   "source": [
    "## That is how we predict using Matrix inverse."
   ]
  },
  {
   "cell_type": "code",
   "execution_count": null,
   "id": "8f4e1736",
   "metadata": {},
   "outputs": [],
   "source": []
  }
 ],
 "metadata": {
  "kernelspec": {
   "display_name": "Python 3 (ipykernel)",
   "language": "python",
   "name": "python3"
  },
  "language_info": {
   "codemirror_mode": {
    "name": "ipython",
    "version": 3
   },
   "file_extension": ".py",
   "mimetype": "text/x-python",
   "name": "python",
   "nbconvert_exporter": "python",
   "pygments_lexer": "ipython3",
   "version": "3.10.6"
  }
 },
 "nbformat": 4,
 "nbformat_minor": 5
}
