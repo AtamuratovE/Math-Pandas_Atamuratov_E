{
 "cells": [
  {
   "cell_type": "markdown",
   "id": "bd0615fe",
   "metadata": {},
   "source": [
    "### Visualizing The Normal Distribution in Python\n",
    "\n",
    "#### Pakages \n",
    " <ul>\n",
    "    <li>Scipy</li>\n",
    "    <li>Seaborn</li>\n",
    "    <li>Matplotlib</li>\n",
    " </ul>\n",
    " \n",
    " #### Examples\n",
    " Baby Height\n",
    " \n",
    " Imagine we know that the avarage height in inches of a baby is 20 and the standard deviation is 0.6\n",
    " \n",
    " \n",
    " Adult Height\n",
    " \n",
    " Imagine we know the avarage height of an adult is 70 with a standard deviation of 4\n",
    " \n",
    " \n",
    "  #### Generating Data and Visuals\n",
    "  \n",
    "  \n",
    "\n",
    " "
   ]
  },
  {
   "cell_type": "code",
   "execution_count": 66,
   "id": "0775e4a8",
   "metadata": {},
   "outputs": [],
   "source": [
    "from scipy.stats import norm # to generate sample data\n",
    "import seaborn as sns # to visualize data\n",
    "import matplotlib.pyplot as plt # to visualize data"
   ]
  },
  {
   "cell_type": "code",
   "execution_count": null,
   "id": "9b195a85",
   "metadata": {},
   "outputs": [],
   "source": []
  },
  {
   "cell_type": "code",
   "execution_count": 25,
   "id": "cee9423d",
   "metadata": {},
   "outputs": [],
   "source": [
    "baby_sample = norm.rvs(loc=20,scale=0.6, size=1000) # here we are generating random samples(1000) with mean of 20, standard deviation of 0.6"
   ]
  },
  {
   "cell_type": "code",
   "execution_count": 26,
   "id": "8aadb6b3",
   "metadata": {},
   "outputs": [],
   "source": [
    "adult_sample = norm.rvs(loc=70, scale=4, size=1000) # the same only with adults"
   ]
  },
  {
   "cell_type": "code",
   "execution_count": 27,
   "id": "3173c9a3",
   "metadata": {},
   "outputs": [
    {
     "name": "stderr",
     "output_type": "stream",
     "text": [
      "C:\\Users\\Professional\\anaconda3\\lib\\site-packages\\seaborn\\distributions.py:2619: FutureWarning: `distplot` is a deprecated function and will be removed in a future version. Please adapt your code to use either `displot` (a figure-level function with similar flexibility) or `histplot` (an axes-level function for histograms).\n",
      "  warnings.warn(msg, FutureWarning)\n",
      "C:\\Users\\Professional\\anaconda3\\lib\\site-packages\\seaborn\\distributions.py:2619: FutureWarning: `distplot` is a deprecated function and will be removed in a future version. Please adapt your code to use either `displot` (a figure-level function with similar flexibility) or `histplot` (an axes-level function for histograms).\n",
      "  warnings.warn(msg, FutureWarning)\n"
     ]
    },
    {
     "data": {
      "text/plain": [
       "<AxesSubplot:ylabel='Density'>"
      ]
     },
     "execution_count": 27,
     "metadata": {},
     "output_type": "execute_result"
    },
    {
     "data": {
      "image/png": "[encoded data removed]",
      "text/plain": [
       "<Figure size 432x288 with 1 Axes>"
      ]
     },
     "metadata": {
      "needs_background": "light"
     },
     "output_type": "display_data"
    }
   ],
   "source": [
    "# usage of histogram\n",
    "# sns.histplot(baby_sample) # here we are using histogram to plot data\n",
    "\n",
    "# usage of displot\n",
    "sns.distplot(baby_sample) # here we are using displot\n",
    "sns.distplot(adult_sample) # same as above\n",
    "\n",
    "\n",
    "# right here pay close attention to the plot in the babies part the plot is higher but range is smaller then adults\n",
    "# exact opposite aplies for adults why?\n",
    "\n",
    "# because of their standard deviation. As much the value of SD is as bigger the range will be.\n",
    "\n",
    "# easy question) Why babies on the left?\n",
    "# because x-bar is showing height y-bar showing number of people at that height.\n"
   ]
  },
  {
   "cell_type": "markdown",
   "id": "c9201d1d",
   "metadata": {},
   "source": [
    "#### New Example\n",
    "\n",
    "our battery life follows a normal distribution and has a mean of 6 and a standard deviation of 1.5"
   ]
  },
  {
   "cell_type": "code",
   "execution_count": 50,
   "id": "ac227fc3",
   "metadata": {},
   "outputs": [
    {
     "data": {
      "text/plain": [
       "1.5178988030475942"
      ]
     },
     "execution_count": 50,
     "metadata": {},
     "output_type": "execute_result"
    }
   ],
   "source": [
    "battery_sample.std()"
   ]
  },
  {
   "cell_type": "code",
   "execution_count": 68,
   "id": "9ce8722a",
   "metadata": {},
   "outputs": [
    {
     "data": {
      "text/plain": [
       "<AxesSubplot:ylabel='Density'>"
      ]
     },
     "execution_count": 68,
     "metadata": {},
     "output_type": "execute_result"
    },
    {
     "data": {
      "image/png": "[encoded data removed]",
      "text/plain": [
       "<Figure size 432x288 with 1 Axes>"
      ]
     },
     "metadata": {
      "needs_background": "light"
     },
     "output_type": "display_data"
    }
   ],
   "source": [
    "# new example with battery-life\n",
    "\n",
    "# another type of plot\n",
    "\n",
    "battery_sample = norm.rvs(loc=6,scale = 1.5, size = 1000) # battery with mean 6 hours, SD of 1.5 hours\n",
    "bat_mean = battery_sample.mean()# assing variable to mean\n",
    "\n",
    "# standard deviation\n",
    "bat_std = battery_sample.std()# assing variables to SD\n",
    "\n",
    "# ploting battery mean\n",
    "plt.axvline(bat_mean, color = 'goldenrod')# this is the line in the middle which is mean \n",
    "\n",
    "plt.axvline(bat_mean+bat_std, color = 'green', ls =\"--\") # upper bound\n",
    "plt.axvline(bat_mean-bat_std, color = 'green', ls =\"--\") # lower bound\n",
    "sns.kdeplot(norm.rvs(loc=6,scale = 1.5, size = 1000), fill = True)"
   ]
  },
  {
   "cell_type": "code",
   "execution_count": 54,
   "id": "dbb6b673",
   "metadata": {},
   "outputs": [
    {
     "data": {
      "text/plain": [
       "(4.5083131751853704, 7.49168682481463)"
      ]
     },
     "execution_count": 54,
     "metadata": {},
     "output_type": "execute_result"
    }
   ],
   "source": [
    "norm.interval(.68,loc=6,scale=1.5) # here we can see bounds numericaly where 68% of data lies"
   ]
  },
  {
   "cell_type": "code",
   "execution_count": 65,
   "id": "5a4b990c",
   "metadata": {},
   "outputs": [
    {
     "name": "stdout",
     "output_type": "stream",
     "text": [
      "0.8123660633612388\n"
     ]
    }
   ],
   "source": [
    "# below 4 hours\n",
    "below_4hrs = norm.cdf(4,loc=6,scale = bat_std)# below 4 hours\n",
    "\n",
    "# below 8 hours\n",
    "below_8hrs = norm.cdf(8,loc=6,scale = bat_std)# below 8 hours\n",
    "\n",
    "print(below_8hrs - below_4hrs) # between 8-4 hours // makes 80% of batteries '81 for exact :)'"
   ]
  },
  {
   "cell_type": "code",
   "execution_count": null,
   "id": "e4c21156",
   "metadata": {},
   "outputs": [],
   "source": []
  },
  {
   "cell_type": "code",
   "execution_count": null,
   "id": "fd89375e",
   "metadata": {},
   "outputs": [],
   "source": []
  },
  {
   "cell_type": "code",
   "execution_count": null,
   "id": "b58eaa97",
   "metadata": {},
   "outputs": [],
   "source": []
  },
  {
   "cell_type": "code",
   "execution_count": null,
   "id": "a41d2ab5",
   "metadata": {},
   "outputs": [],
   "source": []
  },
  {
   "cell_type": "markdown",
   "id": "7ecc92ed",
   "metadata": {},
   "source": [
    "  ### Probability with the Normal Distribution"
   ]
  },
  {
   "cell_type": "code",
   "execution_count": 55,
   "id": "67ce5d44",
   "metadata": {},
   "outputs": [
    {
     "data": {
      "text/plain": [
       "<AxesSubplot:ylabel='Density'>"
      ]
     },
     "execution_count": 55,
     "metadata": {},
     "output_type": "execute_result"
    },
    {
     "data": {
      "image/png": "[encoded data removed]",
      "text/plain": [
       "<Figure size 432x288 with 1 Axes>"
      ]
     },
     "metadata": {
      "needs_background": "light"
     },
     "output_type": "display_data"
    }
   ],
   "source": [
    "sns.kdeplot(adult_sample) # here we are using another type of chart to plot the data"
   ]
  },
  {
   "cell_type": "code",
   "execution_count": 57,
   "id": "b0dbaeca",
   "metadata": {},
   "outputs": [
    {
     "data": {
      "text/plain": [
       "0.8943502263331446"
      ]
     },
     "execution_count": 57,
     "metadata": {},
     "output_type": "execute_result"
    }
   ],
   "source": [
    "norm.cdf(75,loc=70,scale=4) # how much of people are shorter then 75 inches // 89% of people 'according to data that we generated'"
   ]
  },
  {
   "cell_type": "code",
   "execution_count": 58,
   "id": "2ca3b945",
   "metadata": {},
   "outputs": [
    {
     "data": {
      "text/plain": [
       "0.10564977366685535"
      ]
     },
     "execution_count": 58,
     "metadata": {},
     "output_type": "execute_result"
    }
   ],
   "source": [
    "norm.sf(75,loc=70,scale=4) # how much of people are taller than 75 inches // 10 % of people"
   ]
  },
  {
   "cell_type": "code",
   "execution_count": 62,
   "id": "5d2000ce",
   "metadata": {},
   "outputs": [
    {
     "data": {
      "text/plain": [
       "0.0013498980316300933"
      ]
     },
     "execution_count": 62,
     "metadata": {},
     "output_type": "execute_result"
    }
   ],
   "source": [
    "# what is the probability of someone being taller than lebron James\n",
    "\n",
    "norm.sf(82,loc=70,scale=4) \n",
    "# so what is the probability of someone being or being taller than 82 inches // 0.1%"
   ]
  },
  {
   "cell_type": "code",
   "execution_count": null,
   "id": "249ccc1d",
   "metadata": {},
   "outputs": [],
   "source": [
    "\n"
   ]
  },
  {
   "cell_type": "code",
   "execution_count": null,
   "id": "4beb56e2",
   "metadata": {},
   "outputs": [],
   "source": [
    "# So that's end of Normal Distribution Project :)"
   ]
  },
  {
   "cell_type": "code",
   "execution_count": null,
   "id": "596be411",
   "metadata": {},
   "outputs": [],
   "source": []
  }
 ],
 "metadata": {
  "kernelspec": {
   "display_name": "Python 3 (ipykernel)",
   "language": "python",
   "name": "python3"
  },
  "language_info": {
   "codemirror_mode": {
    "name": "ipython",
    "version": 3
   },
   "file_extension": ".py",
   "mimetype": "text/x-python",
   "name": "python",
   "nbconvert_exporter": "python",
   "pygments_lexer": "ipython3",
   "version": "3.9.12"
  }
 },
 "nbformat": 4,
 "nbformat_minor": 5
}
