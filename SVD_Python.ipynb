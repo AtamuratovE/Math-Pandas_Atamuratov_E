{
 "cells": [
  {
   "cell_type": "markdown",
   "id": "96d5f9bb",
   "metadata": {},
   "source": [
    "### Singular Value Decomposition (SVD)"
   ]
  },
  {
   "cell_type": "markdown",
   "id": "97ff5a13",
   "metadata": {},
   "source": [
    "A = UDV^T"
   ]
  },
  {
   "cell_type": "markdown",
   "id": "1d6a686f",
   "metadata": {},
   "source": [
    "- U is an orthogonal m x m matrix; its columns are the left-singular vectors of A.\n",
    "- V is an orthogonal n x n matrix; its columns are the right-singular vectors of A.\n",
    "- D is a diagonal m x n matrix; elements along its diagonal are the singular values of A."
   ]
  },
  {
   "cell_type": "code",
   "execution_count": 1,
   "id": "3d8b6851",
   "metadata": {},
   "outputs": [],
   "source": [
    "import numpy as np\n",
    "import matplotlib.pyplot as plt"
   ]
  },
  {
   "cell_type": "markdown",
   "id": "a578228f",
   "metadata": {},
   "source": [
    "### Part 1: proving the equation"
   ]
  },
  {
   "cell_type": "code",
   "execution_count": 5,
   "id": "8fc5573e",
   "metadata": {},
   "outputs": [
    {
     "data": {
      "text/plain": [
       "array([[-1,  2],\n",
       "       [ 2,  3],\n",
       "       [ 5,  7]])"
      ]
     },
     "execution_count": 5,
     "metadata": {},
     "output_type": "execute_result"
    }
   ],
   "source": [
    "A = np.array([[-1, 2], [2, 3], [5, 7]])\n",
    "A"
   ]
  },
  {
   "cell_type": "code",
   "execution_count": 6,
   "id": "9cdc506a",
   "metadata": {},
   "outputs": [],
   "source": [
    "U, d, VT = np.linalg.svd(A)"
   ]
  },
  {
   "cell_type": "code",
   "execution_count": 7,
   "id": "2705b4ac",
   "metadata": {},
   "outputs": [
    {
     "data": {
      "text/plain": [
       "array([[ 0.11759238, -0.9915756 ,  0.05431254],\n",
       "       [ 0.38401471, -0.00503269, -0.92331326],\n",
       "       [ 0.91580824,  0.12943142,  0.38018781]])"
      ]
     },
     "execution_count": 7,
     "metadata": {},
     "output_type": "execute_result"
    }
   ],
   "source": [
    "U"
   ]
  },
  {
   "cell_type": "code",
   "execution_count": 8,
   "id": "f3df6df0",
   "metadata": {},
   "outputs": [
    {
     "data": {
      "text/plain": [
       "array([[ 0.5569756 ,  0.83052885],\n",
       "       [ 0.83052885, -0.5569756 ]])"
      ]
     },
     "execution_count": 8,
     "metadata": {},
     "output_type": "execute_result"
    }
   ],
   "source": [
    "VT"
   ]
  },
  {
   "cell_type": "code",
   "execution_count": 9,
   "id": "b9390d73",
   "metadata": {},
   "outputs": [
    {
     "data": {
      "text/plain": [
       "array([9.3890616, 1.9610003])"
      ]
     },
     "execution_count": 9,
     "metadata": {},
     "output_type": "execute_result"
    }
   ],
   "source": [
    "d"
   ]
  },
  {
   "cell_type": "code",
   "execution_count": 10,
   "id": "9f249702",
   "metadata": {},
   "outputs": [
    {
     "data": {
      "text/plain": [
       "array([[9.3890616, 0.       ],\n",
       "       [0.       , 1.9610003]])"
      ]
     },
     "execution_count": 10,
     "metadata": {},
     "output_type": "execute_result"
    }
   ],
   "source": [
    "np.diag(d)"
   ]
  },
  {
   "cell_type": "markdown",
   "id": "9115b46e",
   "metadata": {},
   "source": [
    "D must have same dimensions as A for UDV^T matrix multiplication to be possible:"
   ]
  },
  {
   "cell_type": "code",
   "execution_count": 11,
   "id": "4c758c26",
   "metadata": {},
   "outputs": [
    {
     "data": {
      "text/plain": [
       "array([[9.3890616, 0.       ],\n",
       "       [0.       , 1.9610003],\n",
       "       [0.       , 0.       ]])"
      ]
     },
     "execution_count": 11,
     "metadata": {},
     "output_type": "execute_result"
    }
   ],
   "source": [
    "D = np.concatenate((np.diag(d), [[0, 0]]), axis=0)\n",
    "D"
   ]
  },
  {
   "cell_type": "code",
   "execution_count": 12,
   "id": "1a4bfea9",
   "metadata": {},
   "outputs": [
    {
     "data": {
      "text/plain": [
       "array([[-1.,  2.],\n",
       "       [ 2.,  3.],\n",
       "       [ 5.,  7.]])"
      ]
     },
     "execution_count": 12,
     "metadata": {},
     "output_type": "execute_result"
    }
   ],
   "source": [
    "np.dot(U, np.dot(D, VT))"
   ]
  },
  {
   "cell_type": "markdown",
   "id": "9b2dfda0",
   "metadata": {},
   "source": [
    "#### As you can see U*D*V^T is equal to original matrix A   |  great!\n",
    "\n",
    "#### now let's prove few more things"
   ]
  },
  {
   "cell_type": "markdown",
   "id": "20aaf923",
   "metadata": {},
   "source": [
    "- Left-singular vectors of A = eigenvectors of AA^T\n",
    "- Right-singular vectors of A = eigenvectors of A^TA.\n",
    "- Non-zero singular values of A = square root of eigenvalues of AA^T = square roots of eigenvalues of A^TA"
   ]
  },
  {
   "cell_type": "markdown",
   "id": "540b4a40",
   "metadata": {},
   "source": [
    "We have so much to prove let's get into work. 😅"
   ]
  },
  {
   "cell_type": "markdown",
   "id": "f97f478d",
   "metadata": {},
   "source": [
    "### Part 2: Proving Other  Equation"
   ]
  },
  {
   "cell_type": "markdown",
   "id": "f5ce28cc",
   "metadata": {},
   "source": [
    " Look here I'm using square matrix because we can extract eiganval and eiganvec from **square matrix** only"
   ]
  },
  {
   "cell_type": "code",
   "execution_count": 14,
   "id": "520d8063",
   "metadata": {},
   "outputs": [
    {
     "data": {
      "text/plain": [
       "array([[1, 2, 3],\n",
       "       [4, 5, 6],\n",
       "       [7, 8, 9]])"
      ]
     },
     "execution_count": 14,
     "metadata": {},
     "output_type": "execute_result"
    }
   ],
   "source": [
    "A = np.array([[1, 2, 3], [4, 5, 6], [7, 8, 9]])\n",
    "A"
   ]
  },
  {
   "cell_type": "markdown",
   "id": "129796fe",
   "metadata": {},
   "source": [
    "In the first formula says that Left-singular vector of A-matrix is equal to A multiplied by it's transpose and if we denote that new matrix by A1 left-singular matrix is equal to A1's eigenvectors, let's see how much is it really true"
   ]
  },
  {
   "cell_type": "markdown",
   "id": "fc29ac8b",
   "metadata": {},
   "source": [
    "**U** is our left-singular matrix"
   ]
  },
  {
   "cell_type": "code",
   "execution_count": 35,
   "id": "c07c703b",
   "metadata": {},
   "outputs": [],
   "source": [
    "U, d, VT = np.linalg.svd(A)"
   ]
  },
  {
   "cell_type": "code",
   "execution_count": 36,
   "id": "c2892d48",
   "metadata": {},
   "outputs": [
    {
     "data": {
      "text/plain": [
       "array([[-0.21483724,  0.88723069,  0.40824829],\n",
       "       [-0.52058739,  0.24964395, -0.81649658],\n",
       "       [-0.82633754, -0.38794278,  0.40824829]])"
      ]
     },
     "execution_count": 36,
     "metadata": {},
     "output_type": "execute_result"
    }
   ],
   "source": [
    "U"
   ]
  },
  {
   "cell_type": "markdown",
   "id": "93340979",
   "metadata": {},
   "source": [
    "here we define what A is"
   ]
  },
  {
   "cell_type": "code",
   "execution_count": 37,
   "id": "9db09746",
   "metadata": {},
   "outputs": [
    {
     "data": {
      "text/plain": [
       "array([[ 14,  32,  50],\n",
       "       [ 32,  77, 122],\n",
       "       [ 50, 122, 194]])"
      ]
     },
     "execution_count": 37,
     "metadata": {},
     "output_type": "execute_result"
    }
   ],
   "source": [
    "A1 = np.dot(A, A.T)\n",
    "A1"
   ]
  },
  {
   "cell_type": "markdown",
   "id": "43e408cc",
   "metadata": {},
   "source": [
    "find it's Eiganvalue and Eigenvector"
   ]
  },
  {
   "cell_type": "code",
   "execution_count": 38,
   "id": "c8b703e7",
   "metadata": {},
   "outputs": [],
   "source": [
    "Eival1, Eivec1 = np.linalg.eig(A1)"
   ]
  },
  {
   "cell_type": "code",
   "execution_count": 39,
   "id": "e1af76cb",
   "metadata": {},
   "outputs": [
    {
     "data": {
      "text/plain": [
       "array([[-0.21483724, -0.88723069,  0.40824829],\n",
       "       [-0.52058739, -0.24964395, -0.81649658],\n",
       "       [-0.82633754,  0.38794278,  0.40824829]])"
      ]
     },
     "execution_count": 39,
     "metadata": {},
     "output_type": "execute_result"
    }
   ],
   "source": [
    "Eivec1"
   ]
  },
  {
   "cell_type": "code",
   "execution_count": 43,
   "id": "c071a4ea",
   "metadata": {},
   "outputs": [
    {
     "data": {
      "text/plain": [
       "array([[-0.21483724,  0.88723069,  0.40824829],\n",
       "       [-0.52058739,  0.24964395, -0.81649658],\n",
       "       [-0.82633754, -0.38794278,  0.40824829]])"
      ]
     },
     "execution_count": 43,
     "metadata": {},
     "output_type": "execute_result"
    }
   ],
   "source": [
    "U"
   ]
  },
  {
   "cell_type": "markdown",
   "id": "04f97cd6",
   "metadata": {},
   "source": [
    "As you can see U **\"Left-singular vectors of A\"** is same as Eivec1 **\"eigenvectors of AA^T\"**\n",
    "\n",
    "### So, we can conclude that the first formula is true."
   ]
  },
  {
   "cell_type": "markdown",
   "id": "6db09a8e",
   "metadata": {},
   "source": [
    "**VT** is right singular vector of A | VT stands for V transpose"
   ]
  },
  {
   "cell_type": "code",
   "execution_count": 44,
   "id": "10480b6e",
   "metadata": {},
   "outputs": [
    {
     "data": {
      "text/plain": [
       "array([[-0.47967118, -0.57236779, -0.66506441],\n",
       "       [-0.77669099, -0.07568647,  0.62531805],\n",
       "       [-0.40824829,  0.81649658, -0.40824829]])"
      ]
     },
     "execution_count": 44,
     "metadata": {},
     "output_type": "execute_result"
    }
   ],
   "source": [
    "VT"
   ]
  },
  {
   "cell_type": "code",
   "execution_count": 46,
   "id": "3b59ac4d",
   "metadata": {},
   "outputs": [
    {
     "data": {
      "text/plain": [
       "array([[ 66,  78,  90],\n",
       "       [ 78,  93, 108],\n",
       "       [ 90, 108, 126]])"
      ]
     },
     "execution_count": 46,
     "metadata": {},
     "output_type": "execute_result"
    }
   ],
   "source": [
    "A2 = np.dot(A.T, A)\n",
    "A2"
   ]
  },
  {
   "cell_type": "code",
   "execution_count": 68,
   "id": "7a1b0219",
   "metadata": {},
   "outputs": [],
   "source": [
    "Eival2, Eivec2 = np.linalg.eig(A2)"
   ]
  },
  {
   "cell_type": "code",
   "execution_count": 69,
   "id": "edabb5c4",
   "metadata": {},
   "outputs": [
    {
     "data": {
      "text/plain": [
       "array([[-0.47967118, -0.77669099,  0.40824829],\n",
       "       [-0.57236779, -0.07568647, -0.81649658],\n",
       "       [-0.66506441,  0.62531805,  0.40824829]])"
      ]
     },
     "execution_count": 69,
     "metadata": {},
     "output_type": "execute_result"
    }
   ],
   "source": [
    "Eivec2"
   ]
  },
  {
   "cell_type": "code",
   "execution_count": 70,
   "id": "249608f9",
   "metadata": {},
   "outputs": [
    {
     "data": {
      "text/plain": [
       "array([[-0.47967118, -0.57236779, -0.66506441],\n",
       "       [-0.77669099, -0.07568647,  0.62531805],\n",
       "       [-0.40824829,  0.81649658, -0.40824829]])"
      ]
     },
     "execution_count": 70,
     "metadata": {},
     "output_type": "execute_result"
    }
   ],
   "source": [
    "VT"
   ]
  },
  {
   "cell_type": "code",
   "execution_count": 71,
   "id": "29db3c59",
   "metadata": {},
   "outputs": [
    {
     "data": {
      "text/plain": [
       "array([[-0.47967118, -0.57236779, -0.66506441],\n",
       "       [-0.77669099, -0.07568647,  0.62531805],\n",
       "       [ 0.40824829, -0.81649658,  0.40824829]])"
      ]
     },
     "execution_count": 71,
     "metadata": {},
     "output_type": "execute_result"
    }
   ],
   "source": [
    "Eivec2.T"
   ]
  },
  {
   "cell_type": "markdown",
   "id": "22f35171",
   "metadata": {},
   "source": [
    "# 😲😲😲 What ?!\n",
    "\n",
    "### I guess my Laptop is having some problems in calculation because here in the formula Eigvec2 should be equal to VT not Transpose of it 😨."
   ]
  },
  {
   "cell_type": "markdown",
   "id": "5872bb20",
   "metadata": {},
   "source": [
    "### Let's prove third formula"
   ]
  },
  {
   "cell_type": "markdown",
   "id": "a19b0a31",
   "metadata": {},
   "source": [
    "So her in third formula it says that Eival1 is equal to Eival2 and equal to square of D"
   ]
  },
  {
   "cell_type": "code",
   "execution_count": 72,
   "id": "e92f9130",
   "metadata": {},
   "outputs": [
    {
     "data": {
      "text/plain": [
       "array([ 2.83858587e+02,  1.14141342e+00, -4.22289180e-16])"
      ]
     },
     "execution_count": 72,
     "metadata": {},
     "output_type": "execute_result"
    }
   ],
   "source": [
    "Eival1"
   ]
  },
  {
   "cell_type": "code",
   "execution_count": 73,
   "id": "56640cba",
   "metadata": {},
   "outputs": [
    {
     "data": {
      "text/plain": [
       "array([2.83858587e+02, 1.14141342e+00, 1.03583089e-15])"
      ]
     },
     "execution_count": 73,
     "metadata": {},
     "output_type": "execute_result"
    }
   ],
   "source": [
    "Eival2"
   ]
  },
  {
   "cell_type": "code",
   "execution_count": 74,
   "id": "78adfcac",
   "metadata": {},
   "outputs": [
    {
     "data": {
      "text/plain": [
       "array([2.83858587e+02, 1.14141342e+00, 1.11205767e-31])"
      ]
     },
     "execution_count": 74,
     "metadata": {},
     "output_type": "execute_result"
    }
   ],
   "source": [
    "d ** 2"
   ]
  },
  {
   "cell_type": "markdown",
   "id": "91fa15a6",
   "metadata": {},
   "source": [
    "so they are the same except third elements of it which is so close to zero in all of the matrices we can conclude that matrices are equal "
   ]
  },
  {
   "cell_type": "markdown",
   "id": "d3159d0f",
   "metadata": {},
   "source": [
    "So we proved all three of them Great!"
   ]
  },
  {
   "cell_type": "code",
   "execution_count": null,
   "id": "ee3c7af3",
   "metadata": {},
   "outputs": [],
   "source": []
  }
 ],
 "metadata": {
  "kernelspec": {
   "display_name": "Python 3 (ipykernel)",
   "language": "python",
   "name": "python3"
  },
  "language_info": {
   "codemirror_mode": {
    "name": "ipython",
    "version": 3
   },
   "file_extension": ".py",
   "mimetype": "text/x-python",
   "name": "python",
   "nbconvert_exporter": "python",
   "pygments_lexer": "ipython3",
   "version": "3.10.6"
  }
 },
 "nbformat": 4,
 "nbformat_minor": 5
}
